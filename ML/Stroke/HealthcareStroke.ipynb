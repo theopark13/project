{
 "cells": [
  {
   "cell_type": "code",
   "execution_count": 1,
   "id": "sb6Vuw7Dpemu",
   "metadata": {
    "colab": {
     "base_uri": "https://localhost:8080/"
    },
    "id": "sb6Vuw7Dpemu",
    "outputId": "1d456d58-6ebe-41d7-f611-792ac1c053cd"
   },
   "outputs": [],
   "source": [
    "from collections import Counter\n",
    "from sklearn.preprocessing import OneHotEncoder, LabelEncoder, StandardScaler\n",
    "from sklearn.model_selection import train_test_split, StratifiedKFold\n",
    "from sklearn.metrics import accuracy_score, precision_score, recall_score, f1_score, fbeta_score, make_scorer\n",
    "from sklearn.metrics import auc, precision_recall_curve, confusion_matrix\n",
    "from sklearn.linear_model import LogisticRegression\n",
    "from sklearn.svm import SVC\n",
    "from xgboost import XGBClassifier\n",
    "from lightgbm import LGBMClassifier\n",
    "from sklearn.ensemble import AdaBoostClassifier\n",
    "from sklearn.ensemble import BaggingClassifier\n",
    "from sklearn.ensemble import ExtraTreesClassifier\n",
    "from sklearn.ensemble import GradientBoostingClassifier\n",
    "from sklearn.ensemble import RandomForestClassifier\n",
    "from sklearn.gaussian_process import GaussianProcessClassifier\n",
    "from sklearn.neighbors import KNeighborsClassifier\n",
    "from sklearn.model_selection import cross_val_score\n",
    "from imblearn.over_sampling import SMOTE, ADASYN, RandomOverSampler\n",
    "from imblearn.under_sampling import RandomUnderSampler, TomekLinks, ClusterCentroids\n",
    "from imblearn.combine import SMOTETomek\n",
    "import matplotlib.pyplot as plt\n",
    "import missingno\n",
    "import numpy as np\n",
    "import pandas as pd\n",
    "import seaborn as sns\n",
    "import sys\n",
    "import warnings\n",
    "warnings.filterwarnings('ignore')"
   ]
  },
  {
   "cell_type": "markdown",
   "id": "nervous-cathedral",
   "metadata": {},
   "source": [
    "## EDA & Feature Engineering"
   ]
  },
  {
   "cell_type": "code",
   "execution_count": 2,
   "id": "duplicate-navigator",
   "metadata": {},
   "outputs": [
    {
     "data": {
      "text/html": [
       "<div>\n",
       "<style scoped>\n",
       "    .dataframe tbody tr th:only-of-type {\n",
       "        vertical-align: middle;\n",
       "    }\n",
       "\n",
       "    .dataframe tbody tr th {\n",
       "        vertical-align: top;\n",
       "    }\n",
       "\n",
       "    .dataframe thead th {\n",
       "        text-align: right;\n",
       "    }\n",
       "</style>\n",
       "<table border=\"1\" class=\"dataframe\">\n",
       "  <thead>\n",
       "    <tr style=\"text-align: right;\">\n",
       "      <th></th>\n",
       "      <th>id</th>\n",
       "      <th>gender</th>\n",
       "      <th>age</th>\n",
       "      <th>hypertension</th>\n",
       "      <th>heart_disease</th>\n",
       "      <th>ever_married</th>\n",
       "      <th>work_type</th>\n",
       "      <th>Residence_type</th>\n",
       "      <th>avg_glucose_level</th>\n",
       "      <th>bmi</th>\n",
       "      <th>smoking_status</th>\n",
       "      <th>stroke</th>\n",
       "    </tr>\n",
       "  </thead>\n",
       "  <tbody>\n",
       "    <tr>\n",
       "      <th>0</th>\n",
       "      <td>9046</td>\n",
       "      <td>Male</td>\n",
       "      <td>67.0</td>\n",
       "      <td>0</td>\n",
       "      <td>1</td>\n",
       "      <td>Yes</td>\n",
       "      <td>Private</td>\n",
       "      <td>Urban</td>\n",
       "      <td>228.69</td>\n",
       "      <td>36.6</td>\n",
       "      <td>formerly smoked</td>\n",
       "      <td>1</td>\n",
       "    </tr>\n",
       "    <tr>\n",
       "      <th>1</th>\n",
       "      <td>51676</td>\n",
       "      <td>Female</td>\n",
       "      <td>61.0</td>\n",
       "      <td>0</td>\n",
       "      <td>0</td>\n",
       "      <td>Yes</td>\n",
       "      <td>Self-employed</td>\n",
       "      <td>Rural</td>\n",
       "      <td>202.21</td>\n",
       "      <td>NaN</td>\n",
       "      <td>never smoked</td>\n",
       "      <td>1</td>\n",
       "    </tr>\n",
       "    <tr>\n",
       "      <th>2</th>\n",
       "      <td>31112</td>\n",
       "      <td>Male</td>\n",
       "      <td>80.0</td>\n",
       "      <td>0</td>\n",
       "      <td>1</td>\n",
       "      <td>Yes</td>\n",
       "      <td>Private</td>\n",
       "      <td>Rural</td>\n",
       "      <td>105.92</td>\n",
       "      <td>32.5</td>\n",
       "      <td>never smoked</td>\n",
       "      <td>1</td>\n",
       "    </tr>\n",
       "    <tr>\n",
       "      <th>3</th>\n",
       "      <td>60182</td>\n",
       "      <td>Female</td>\n",
       "      <td>49.0</td>\n",
       "      <td>0</td>\n",
       "      <td>0</td>\n",
       "      <td>Yes</td>\n",
       "      <td>Private</td>\n",
       "      <td>Urban</td>\n",
       "      <td>171.23</td>\n",
       "      <td>34.4</td>\n",
       "      <td>smokes</td>\n",
       "      <td>1</td>\n",
       "    </tr>\n",
       "    <tr>\n",
       "      <th>4</th>\n",
       "      <td>1665</td>\n",
       "      <td>Female</td>\n",
       "      <td>79.0</td>\n",
       "      <td>1</td>\n",
       "      <td>0</td>\n",
       "      <td>Yes</td>\n",
       "      <td>Self-employed</td>\n",
       "      <td>Rural</td>\n",
       "      <td>174.12</td>\n",
       "      <td>24.0</td>\n",
       "      <td>never smoked</td>\n",
       "      <td>1</td>\n",
       "    </tr>\n",
       "  </tbody>\n",
       "</table>\n",
       "</div>"
      ],
      "text/plain": [
       "      id  gender   age  hypertension  heart_disease ever_married  \\\n",
       "0   9046    Male  67.0             0              1          Yes   \n",
       "1  51676  Female  61.0             0              0          Yes   \n",
       "2  31112    Male  80.0             0              1          Yes   \n",
       "3  60182  Female  49.0             0              0          Yes   \n",
       "4   1665  Female  79.0             1              0          Yes   \n",
       "\n",
       "       work_type Residence_type  avg_glucose_level   bmi   smoking_status  \\\n",
       "0        Private          Urban             228.69  36.6  formerly smoked   \n",
       "1  Self-employed          Rural             202.21   NaN     never smoked   \n",
       "2        Private          Rural             105.92  32.5     never smoked   \n",
       "3        Private          Urban             171.23  34.4           smokes   \n",
       "4  Self-employed          Rural             174.12  24.0     never smoked   \n",
       "\n",
       "   stroke  \n",
       "0       1  \n",
       "1       1  \n",
       "2       1  \n",
       "3       1  \n",
       "4       1  "
      ]
     },
     "execution_count": 2,
     "metadata": {},
     "output_type": "execute_result"
    }
   ],
   "source": [
    "data = pd.read_csv('healthcare-dataset-stroke-data.csv')\n",
    "data.head()"
   ]
  },
  {
   "cell_type": "code",
   "execution_count": 3,
   "id": "JPkpYafjphTF",
   "metadata": {
    "colab": {
     "base_uri": "https://localhost:8080/"
    },
    "id": "JPkpYafjphTF",
    "outputId": "9cd2f8e1-75d2-40f9-ea7f-eee06e7f1209"
   },
   "outputs": [
    {
     "data": {
      "text/plain": [
       "<AxesSubplot:>"
      ]
     },
     "execution_count": 3,
     "metadata": {},
     "output_type": "execute_result"
    },
    {
     "data": {
      "image/png": "[encoded data removed]",
      "text/plain": [
       "<Figure size 1080x576 with 2 Axes>"
      ]
     },
     "metadata": {
      "needs_background": "light"
     },
     "output_type": "display_data"
    }
   ],
   "source": [
    "data.drop('id', axis=1, inplace=True)\n",
    "missingno.matrix(data, figsize = (15,8))"
   ]
  },
  {
   "cell_type": "markdown",
   "id": "dynamic-finish",
   "metadata": {},
   "source": [
    "I think I have plenty of data even if I drop missing ones, but let's take a closer look."
   ]
  },
  {
   "cell_type": "code",
   "execution_count": 4,
   "id": "sharp-enough",
   "metadata": {},
   "outputs": [
    {
     "data": {
      "image/png": "[encoded data removed]",
      "text/plain": [
       "<Figure size 432x288 with 1 Axes>"
      ]
     },
     "metadata": {
      "needs_background": "light"
     },
     "output_type": "display_data"
    }
   ],
   "source": [
    "fig, ax = plt.subplots(1,1)\n",
    "sns.countplot(x='stroke', ax=ax, data=data)\n",
    "for p in ax.patches:\n",
    "    ax.annotate(p.get_height(), (p.get_x() + p.get_width() / 2., p.get_height()), \n",
    "                   ha = 'center', va = 'center', xytext = (0, 5), \n",
    "                   textcoords = 'offset points')"
   ]
  },
  {
   "cell_type": "markdown",
   "id": "instrumental-oasis",
   "metadata": {},
   "source": [
    "Dataset is seriously unbalaced; less than 5 percent of the data are the patients with stroke."
   ]
  },
  {
   "cell_type": "code",
   "execution_count": 5,
   "id": "threaded-entry",
   "metadata": {},
   "outputs": [
    {
     "data": {
      "text/plain": [
       "gender               0.000000\n",
       "age                  0.000000\n",
       "hypertension         0.000000\n",
       "heart_disease        0.000000\n",
       "ever_married         0.000000\n",
       "work_type            0.000000\n",
       "Residence_type       0.000000\n",
       "avg_glucose_level    0.000000\n",
       "bmi                  0.039335\n",
       "smoking_status       0.000000\n",
       "stroke               0.000000\n",
       "dtype: float64"
      ]
     },
     "execution_count": 5,
     "metadata": {},
     "output_type": "execute_result"
    }
   ],
   "source": [
    "data.isna().sum() / len(data)"
   ]
  },
  {
   "cell_type": "markdown",
   "id": "progressive-pontiac",
   "metadata": {},
   "source": [
    "About 4 percent of data has missing values."
   ]
  },
  {
   "cell_type": "code",
   "execution_count": 6,
   "id": "sophisticated-press",
   "metadata": {},
   "outputs": [
    {
     "name": "stdout",
     "output_type": "stream",
     "text": [
      "Stroke / Total data:  0.0487279843444227\n",
      "Missing data(Stroke) / Missing data:  0.19900497512437812\n",
      "Missing data(Stroke) / Stroke:  0.1606425702811245\n",
      "(Stroke - Missing data(Stroke)) / (Total - Stroke):  0.04257486249745366\n"
     ]
    }
   ],
   "source": [
    "total = len(data)\n",
    "stroke = len(data[data['stroke'] == 1])\n",
    "missing = data['bmi'].isna().sum()\n",
    "missing_stroke = len(data[(data['bmi'].isna()) & (data['stroke'] == 1)])\n",
    "\n",
    "print('Stroke / Total data: ', stroke / total)\n",
    "print('Missing data(Stroke) / Missing data: ', missing_stroke / missing)\n",
    "print('Missing data(Stroke) / Stroke: ', missing_stroke / stroke)\n",
    "print('(Stroke - Missing data(Stroke)) / (Total - Stroke): ', (stroke - missing_stroke) / (total - missing))"
   ]
  },
  {
   "cell_type": "markdown",
   "id": "global-shakespeare",
   "metadata": {},
   "source": [
    "In total data, patient who had stroke are 5%, but in missing data, there are 20%. If I drop missing values, I'll lose 16% of people who had stroke, so I should consider keeping the data. Let's see if we can fill missing bmi values with other features."
   ]
  },
  {
   "cell_type": "code",
   "execution_count": 7,
   "id": "former-huntington",
   "metadata": {},
   "outputs": [
    {
     "data": {
      "text/plain": [
       "<AxesSubplot:>"
      ]
     },
     "execution_count": 7,
     "metadata": {},
     "output_type": "execute_result"
    },
    {
     "data": {
      "image/png": "[encoded data removed]",
      "text/plain": [
       "<Figure size 432x288 with 2 Axes>"
      ]
     },
     "metadata": {
      "needs_background": "light"
     },
     "output_type": "display_data"
    }
   ],
   "source": [
    "num_data = data[['age', 'avg_glucose_level', 'bmi', 'stroke']]\n",
    "sns.heatmap(num_data.corr(), vmin=-1, vmax=1, cmap='coolwarm', annot=True)"
   ]
  },
  {
   "cell_type": "markdown",
   "id": "coated-journal",
   "metadata": {},
   "source": [
    "It's hard to replace bmi with age or average glucose level because there aren't any strong relations. "
   ]
  },
  {
   "cell_type": "code",
   "execution_count": 8,
   "id": "sustained-pharmacy",
   "metadata": {},
   "outputs": [
    {
     "data": {
      "text/plain": [
       "<AxesSubplot:xlabel='bmi', ylabel='Count'>"
      ]
     },
     "execution_count": 8,
     "metadata": {},
     "output_type": "execute_result"
    },
    {
     "data": {
      "image/png": "[encoded data removed]",
      "text/plain": [
       "<Figure size 432x288 with 1 Axes>"
      ]
     },
     "metadata": {
      "needs_background": "light"
     },
     "output_type": "display_data"
    }
   ],
   "source": [
    "sns.histplot(x='bmi', data=data)"
   ]
  },
  {
   "cell_type": "markdown",
   "id": "prerequisite-cheese",
   "metadata": {},
   "source": [
    "I can drop the missing values or fill it with median. I tried both, and filling with median value yielded better result."
   ]
  },
  {
   "cell_type": "code",
   "execution_count": 9,
   "id": "eOYS1Wsapemz",
   "metadata": {
    "id": "eOYS1Wsapemz"
   },
   "outputs": [
    {
     "data": {
      "text/html": [
       "<div>\n",
       "<style scoped>\n",
       "    .dataframe tbody tr th:only-of-type {\n",
       "        vertical-align: middle;\n",
       "    }\n",
       "\n",
       "    .dataframe tbody tr th {\n",
       "        vertical-align: top;\n",
       "    }\n",
       "\n",
       "    .dataframe thead th {\n",
       "        text-align: right;\n",
       "    }\n",
       "</style>\n",
       "<table border=\"1\" class=\"dataframe\">\n",
       "  <thead>\n",
       "    <tr style=\"text-align: right;\">\n",
       "      <th></th>\n",
       "      <th>gender</th>\n",
       "      <th>age</th>\n",
       "      <th>hypertension</th>\n",
       "      <th>heart_disease</th>\n",
       "      <th>ever_married</th>\n",
       "      <th>work_type</th>\n",
       "      <th>Residence_type</th>\n",
       "      <th>avg_glucose_level</th>\n",
       "      <th>bmi</th>\n",
       "      <th>smoking_status</th>\n",
       "      <th>stroke</th>\n",
       "    </tr>\n",
       "  </thead>\n",
       "  <tbody>\n",
       "    <tr>\n",
       "      <th>0</th>\n",
       "      <td>Male</td>\n",
       "      <td>67.0</td>\n",
       "      <td>0</td>\n",
       "      <td>1</td>\n",
       "      <td>Yes</td>\n",
       "      <td>Private</td>\n",
       "      <td>Urban</td>\n",
       "      <td>228.69</td>\n",
       "      <td>36.6</td>\n",
       "      <td>formerly smoked</td>\n",
       "      <td>1</td>\n",
       "    </tr>\n",
       "    <tr>\n",
       "      <th>1</th>\n",
       "      <td>Female</td>\n",
       "      <td>61.0</td>\n",
       "      <td>0</td>\n",
       "      <td>0</td>\n",
       "      <td>Yes</td>\n",
       "      <td>Self-employed</td>\n",
       "      <td>Rural</td>\n",
       "      <td>202.21</td>\n",
       "      <td>28.1</td>\n",
       "      <td>never smoked</td>\n",
       "      <td>1</td>\n",
       "    </tr>\n",
       "    <tr>\n",
       "      <th>2</th>\n",
       "      <td>Male</td>\n",
       "      <td>80.0</td>\n",
       "      <td>0</td>\n",
       "      <td>1</td>\n",
       "      <td>Yes</td>\n",
       "      <td>Private</td>\n",
       "      <td>Rural</td>\n",
       "      <td>105.92</td>\n",
       "      <td>32.5</td>\n",
       "      <td>never smoked</td>\n",
       "      <td>1</td>\n",
       "    </tr>\n",
       "    <tr>\n",
       "      <th>3</th>\n",
       "      <td>Female</td>\n",
       "      <td>49.0</td>\n",
       "      <td>0</td>\n",
       "      <td>0</td>\n",
       "      <td>Yes</td>\n",
       "      <td>Private</td>\n",
       "      <td>Urban</td>\n",
       "      <td>171.23</td>\n",
       "      <td>34.4</td>\n",
       "      <td>smokes</td>\n",
       "      <td>1</td>\n",
       "    </tr>\n",
       "    <tr>\n",
       "      <th>4</th>\n",
       "      <td>Female</td>\n",
       "      <td>79.0</td>\n",
       "      <td>1</td>\n",
       "      <td>0</td>\n",
       "      <td>Yes</td>\n",
       "      <td>Self-employed</td>\n",
       "      <td>Rural</td>\n",
       "      <td>174.12</td>\n",
       "      <td>24.0</td>\n",
       "      <td>never smoked</td>\n",
       "      <td>1</td>\n",
       "    </tr>\n",
       "  </tbody>\n",
       "</table>\n",
       "</div>"
      ],
      "text/plain": [
       "   gender   age  hypertension  heart_disease ever_married      work_type  \\\n",
       "0    Male  67.0             0              1          Yes        Private   \n",
       "1  Female  61.0             0              0          Yes  Self-employed   \n",
       "2    Male  80.0             0              1          Yes        Private   \n",
       "3  Female  49.0             0              0          Yes        Private   \n",
       "4  Female  79.0             1              0          Yes  Self-employed   \n",
       "\n",
       "  Residence_type  avg_glucose_level   bmi   smoking_status  stroke  \n",
       "0          Urban             228.69  36.6  formerly smoked       1  \n",
       "1          Rural             202.21  28.1     never smoked       1  \n",
       "2          Rural             105.92  32.5     never smoked       1  \n",
       "3          Urban             171.23  34.4           smokes       1  \n",
       "4          Rural             174.12  24.0     never smoked       1  "
      ]
     },
     "execution_count": 9,
     "metadata": {},
     "output_type": "execute_result"
    }
   ],
   "source": [
    "#data.dropna(inplace=True)\n",
    "median = data['bmi'].median()\n",
    "data.fillna(median, axis=1, inplace=True)\n",
    "data.reset_index(drop=True, inplace=True)\n",
    "data.head()"
   ]
  },
  {
   "cell_type": "code",
   "execution_count": 10,
   "id": "opponent-newcastle",
   "metadata": {},
   "outputs": [
    {
     "data": {
      "text/plain": [
       "<AxesSubplot:xlabel='age', ylabel='avg_glucose_level'>"
      ]
     },
     "execution_count": 10,
     "metadata": {},
     "output_type": "execute_result"
    },
    {
     "data": {
      "image/png": "[encoded data removed]",
      "text/plain": [
       "<Figure size 504x360 with 1 Axes>"
      ]
     },
     "metadata": {
      "needs_background": "light"
     },
     "output_type": "display_data"
    }
   ],
   "source": [
    "plt.figure(figsize=(7,5))\n",
    "sns.scatterplot(x='age', y='avg_glucose_level', hue='stroke', style='stroke', markers=['.', 'o'], \n",
    "                palette=['#d3d3d3','#ff9201'], alpha=1, data=data)"
   ]
  },
  {
   "cell_type": "markdown",
   "id": "remarkable-madison",
   "metadata": {},
   "source": [
    "People had stroke are prominent in upper right side of the plot. I'll isolate the people with age over 50 and glucose over 150."
   ]
  },
  {
   "cell_type": "code",
   "execution_count": 11,
   "id": "specific-cleanup",
   "metadata": {},
   "outputs": [],
   "source": [
    "data['age50_and_glucose150'] = ((data['age'] >= 50) & (data['avg_glucose_level'] >= 150))\n",
    "neg_data = data[data['stroke']==0]\n",
    "pos_data = data[data['stroke']==1]"
   ]
  },
  {
   "cell_type": "code",
   "execution_count": 12,
   "id": "front-aquatic",
   "metadata": {},
   "outputs": [
    {
     "data": {
      "text/plain": [
       "<AxesSubplot:xlabel='stroke', ylabel='count'>"
      ]
     },
     "execution_count": 12,
     "metadata": {},
     "output_type": "execute_result"
    },
    {
     "data": {
      "image/png": "[encoded data removed]",
      "text/plain": [
       "<Figure size 792x360 with 2 Axes>"
      ]
     },
     "metadata": {
      "needs_background": "light"
     },
     "output_type": "display_data"
    }
   ],
   "source": [
    "fig, axes = plt.subplots(1, 2, figsize=(11,5))\n",
    "sns.countplot(x='stroke', hue='age50_and_glucose150', ax=axes[0], data=neg_data)\n",
    "sns.countplot(x='stroke', hue='age50_and_glucose150', ax=axes[1], data=pos_data)"
   ]
  },
  {
   "cell_type": "markdown",
   "id": "bound-accent",
   "metadata": {},
   "source": [
    "I added new feature: whether if the person has age over 50 and glucose level over 150. Adding this new feature actually improved the model."
   ]
  },
  {
   "cell_type": "code",
   "execution_count": 13,
   "id": "engaging-shift",
   "metadata": {},
   "outputs": [
    {
     "data": {
      "text/plain": [
       "<AxesSubplot:xlabel='stroke', ylabel='count'>"
      ]
     },
     "execution_count": 13,
     "metadata": {},
     "output_type": "execute_result"
    },
    {
     "data": {
      "image/png": "[encoded data removed]",
      "text/plain": [
       "<Figure size 792x360 with 2 Axes>"
      ]
     },
     "metadata": {
      "needs_background": "light"
     },
     "output_type": "display_data"
    }
   ],
   "source": [
    "fig, axes = plt.subplots(1, 2, figsize=(11,5))\n",
    "sns.countplot(x='stroke', hue='hypertension', ax=axes[0], data=neg_data)\n",
    "sns.countplot(x='stroke', hue='hypertension', ax=axes[1], data=pos_data)"
   ]
  },
  {
   "cell_type": "code",
   "execution_count": 14,
   "id": "baking-champion",
   "metadata": {},
   "outputs": [
    {
     "data": {
      "text/plain": [
       "<AxesSubplot:xlabel='stroke', ylabel='count'>"
      ]
     },
     "execution_count": 14,
     "metadata": {},
     "output_type": "execute_result"
    },
    {
     "data": {
      "image/png": "[encoded data removed]",
      "text/plain": [
       "<Figure size 792x360 with 2 Axes>"
      ]
     },
     "metadata": {
      "needs_background": "light"
     },
     "output_type": "display_data"
    }
   ],
   "source": [
    "fig, axes = plt.subplots(1, 2, figsize=(11,5))\n",
    "sns.countplot(x='stroke', hue='heart_disease', ax=axes[0], data=neg_data)\n",
    "sns.countplot(x='stroke', hue='heart_disease', ax=axes[1], data=pos_data)"
   ]
  },
  {
   "cell_type": "markdown",
   "id": "specific-nutrition",
   "metadata": {},
   "source": [
    "People who ever had hypertension or heart disease are more prone to stroke."
   ]
  },
  {
   "cell_type": "code",
   "execution_count": 15,
   "id": "suspended-simpson",
   "metadata": {},
   "outputs": [
    {
     "data": {
      "text/plain": [
       "<AxesSubplot:xlabel='stroke', ylabel='count'>"
      ]
     },
     "execution_count": 15,
     "metadata": {},
     "output_type": "execute_result"
    },
    {
     "data": {
      "image/png": "[encoded data removed]",
      "text/plain": [
       "<Figure size 792x360 with 2 Axes>"
      ]
     },
     "metadata": {
      "needs_background": "light"
     },
     "output_type": "display_data"
    }
   ],
   "source": [
    "fig, axes = plt.subplots(1, 2, figsize=(11,5))\n",
    "sns.countplot(x='stroke', hue='ever_married', hue_order=['Yes', 'No'], ax=axes[0], data=neg_data)\n",
    "sns.countplot(x='stroke', hue='ever_married', ax=axes[1], data=pos_data)"
   ]
  },
  {
   "cell_type": "markdown",
   "id": "eleven-shareware",
   "metadata": {},
   "source": [
    "Here's an interesting fact: people that never got married are less likely to have stroke. "
   ]
  },
  {
   "cell_type": "code",
   "execution_count": 16,
   "id": "successful-health",
   "metadata": {},
   "outputs": [
    {
     "data": {
      "text/plain": [
       "<AxesSubplot:xlabel='stroke', ylabel='count'>"
      ]
     },
     "execution_count": 16,
     "metadata": {},
     "output_type": "execute_result"
    },
    {
     "data": {
      "image/png": "[encoded data removed]",
      "text/plain": [
       "<Figure size 792x360 with 2 Axes>"
      ]
     },
     "metadata": {
      "needs_background": "light"
     },
     "output_type": "display_data"
    }
   ],
   "source": [
    "hue_order = data['work_type'].unique()\n",
    "fig, axes = plt.subplots(1, 2, figsize=(11,5))\n",
    "sns.countplot(x='stroke', hue='work_type', hue_order=hue_order, ax=axes[0], data=neg_data)\n",
    "sns.countplot(x='stroke', hue='work_type', hue_order=hue_order, ax=axes[1], data=pos_data)"
   ]
  },
  {
   "cell_type": "code",
   "execution_count": 17,
   "id": "falling-retreat",
   "metadata": {},
   "outputs": [
    {
     "data": {
      "text/plain": [
       "<AxesSubplot:xlabel='stroke', ylabel='count'>"
      ]
     },
     "execution_count": 17,
     "metadata": {},
     "output_type": "execute_result"
    },
    {
     "data": {
      "image/png": "[encoded data removed]",
      "text/plain": [
       "<Figure size 792x360 with 2 Axes>"
      ]
     },
     "metadata": {
      "needs_background": "light"
     },
     "output_type": "display_data"
    }
   ],
   "source": [
    "fig, axes = plt.subplots(1, 2, figsize=(11,5))\n",
    "sns.countplot(x='stroke', hue='Residence_type', hue_order=['Urban', 'Rural'], ax=axes[0], data=neg_data)\n",
    "sns.countplot(x='stroke', hue='Residence_type', ax=axes[1], data=pos_data)"
   ]
  },
  {
   "cell_type": "code",
   "execution_count": 18,
   "id": "special-chrome",
   "metadata": {},
   "outputs": [
    {
     "data": {
      "text/plain": [
       "<AxesSubplot:xlabel='stroke', ylabel='count'>"
      ]
     },
     "execution_count": 18,
     "metadata": {},
     "output_type": "execute_result"
    },
    {
     "data": {
      "image/png": "[encoded data removed]",
      "text/plain": [
       "<Figure size 792x360 with 2 Axes>"
      ]
     },
     "metadata": {
      "needs_background": "light"
     },
     "output_type": "display_data"
    }
   ],
   "source": [
    "hue_order = data['smoking_status'].unique()\n",
    "fig, axes = plt.subplots(1, 2, figsize=(11,5))\n",
    "sns.countplot(x='stroke', hue='smoking_status', hue_order=hue_order, ax=axes[0], data=neg_data)\n",
    "sns.countplot(x='stroke', hue='smoking_status', hue_order=hue_order, ax=axes[1], data=pos_data)"
   ]
  },
  {
   "cell_type": "code",
   "execution_count": 19,
   "id": "communist-plane",
   "metadata": {},
   "outputs": [],
   "source": [
    "def grouping(col_name, group_name, n_group=10):\n",
    "    temp = pd.qcut(data[col_name], n_group)\n",
    "    data[group_name] = 0\n",
    "    group_label = []\n",
    "    \n",
    "    for i in temp.unique():\n",
    "        temp1, temp2 = str(i).strip('(],').split(', ')\n",
    "        group_label.append([float(temp1), float(temp2)])\n",
    "    group_label = sorted(group_label, key=lambda x: x[0])\n",
    "    \n",
    "    for i in range(n_group):\n",
    "        if i == 0:\n",
    "            data.loc[data[col_name] <= group_label[i][0], group_name] = i\n",
    "        elif i == n_group-1:\n",
    "            data.loc[data[col_name] > group_label[i][0], group_name] = i\n",
    "        else:\n",
    "            data.loc[(data[col_name] > group_label[i][0]) & (\n",
    "                data[col_name] <= group_label[i][1]), group_name] = i"
   ]
  },
  {
   "cell_type": "code",
   "execution_count": 20,
   "id": "indie-belgium",
   "metadata": {},
   "outputs": [],
   "source": [
    "grouping('age', 'Agroup')\n",
    "grouping('bmi', 'Bgroup')\n",
    "grouping('avg_glucose_level', 'Ggroup')"
   ]
  },
  {
   "cell_type": "markdown",
   "id": "super-distributor",
   "metadata": {},
   "source": [
    "I tried converting numerical data into categorical data, but it didn't improve the model, so I won't use these features."
   ]
  },
  {
   "cell_type": "code",
   "execution_count": 22,
   "id": "vLdYqLxMpem8",
   "metadata": {
    "id": "vLdYqLxMpem8"
   },
   "outputs": [
    {
     "data": {
      "text/html": [
       "<div>\n",
       "<style scoped>\n",
       "    .dataframe tbody tr th:only-of-type {\n",
       "        vertical-align: middle;\n",
       "    }\n",
       "\n",
       "    .dataframe tbody tr th {\n",
       "        vertical-align: top;\n",
       "    }\n",
       "\n",
       "    .dataframe thead th {\n",
       "        text-align: right;\n",
       "    }\n",
       "</style>\n",
       "<table border=\"1\" class=\"dataframe\">\n",
       "  <thead>\n",
       "    <tr style=\"text-align: right;\">\n",
       "      <th></th>\n",
       "      <th>gender</th>\n",
       "      <th>hypertension</th>\n",
       "      <th>heart_disease</th>\n",
       "      <th>ever_married</th>\n",
       "      <th>work_type</th>\n",
       "      <th>Residence_type</th>\n",
       "      <th>age50_and_glucose150</th>\n",
       "      <th>age</th>\n",
       "      <th>bmi</th>\n",
       "      <th>avg_glucose_level</th>\n",
       "    </tr>\n",
       "  </thead>\n",
       "  <tbody>\n",
       "    <tr>\n",
       "      <th>0</th>\n",
       "      <td>1</td>\n",
       "      <td>0</td>\n",
       "      <td>1</td>\n",
       "      <td>1</td>\n",
       "      <td>2</td>\n",
       "      <td>1</td>\n",
       "      <td>1</td>\n",
       "      <td>67.0</td>\n",
       "      <td>36.6</td>\n",
       "      <td>228.69</td>\n",
       "    </tr>\n",
       "    <tr>\n",
       "      <th>1</th>\n",
       "      <td>0</td>\n",
       "      <td>0</td>\n",
       "      <td>0</td>\n",
       "      <td>1</td>\n",
       "      <td>3</td>\n",
       "      <td>0</td>\n",
       "      <td>1</td>\n",
       "      <td>61.0</td>\n",
       "      <td>28.1</td>\n",
       "      <td>202.21</td>\n",
       "    </tr>\n",
       "    <tr>\n",
       "      <th>2</th>\n",
       "      <td>1</td>\n",
       "      <td>0</td>\n",
       "      <td>1</td>\n",
       "      <td>1</td>\n",
       "      <td>2</td>\n",
       "      <td>0</td>\n",
       "      <td>0</td>\n",
       "      <td>80.0</td>\n",
       "      <td>32.5</td>\n",
       "      <td>105.92</td>\n",
       "    </tr>\n",
       "    <tr>\n",
       "      <th>3</th>\n",
       "      <td>0</td>\n",
       "      <td>0</td>\n",
       "      <td>0</td>\n",
       "      <td>1</td>\n",
       "      <td>2</td>\n",
       "      <td>1</td>\n",
       "      <td>0</td>\n",
       "      <td>49.0</td>\n",
       "      <td>34.4</td>\n",
       "      <td>171.23</td>\n",
       "    </tr>\n",
       "    <tr>\n",
       "      <th>4</th>\n",
       "      <td>0</td>\n",
       "      <td>1</td>\n",
       "      <td>0</td>\n",
       "      <td>1</td>\n",
       "      <td>3</td>\n",
       "      <td>0</td>\n",
       "      <td>1</td>\n",
       "      <td>79.0</td>\n",
       "      <td>24.0</td>\n",
       "      <td>174.12</td>\n",
       "    </tr>\n",
       "    <tr>\n",
       "      <th>...</th>\n",
       "      <td>...</td>\n",
       "      <td>...</td>\n",
       "      <td>...</td>\n",
       "      <td>...</td>\n",
       "      <td>...</td>\n",
       "      <td>...</td>\n",
       "      <td>...</td>\n",
       "      <td>...</td>\n",
       "      <td>...</td>\n",
       "      <td>...</td>\n",
       "    </tr>\n",
       "    <tr>\n",
       "      <th>5105</th>\n",
       "      <td>0</td>\n",
       "      <td>1</td>\n",
       "      <td>0</td>\n",
       "      <td>1</td>\n",
       "      <td>2</td>\n",
       "      <td>1</td>\n",
       "      <td>0</td>\n",
       "      <td>80.0</td>\n",
       "      <td>28.1</td>\n",
       "      <td>83.75</td>\n",
       "    </tr>\n",
       "    <tr>\n",
       "      <th>5106</th>\n",
       "      <td>0</td>\n",
       "      <td>0</td>\n",
       "      <td>0</td>\n",
       "      <td>1</td>\n",
       "      <td>3</td>\n",
       "      <td>1</td>\n",
       "      <td>0</td>\n",
       "      <td>81.0</td>\n",
       "      <td>40.0</td>\n",
       "      <td>125.20</td>\n",
       "    </tr>\n",
       "    <tr>\n",
       "      <th>5107</th>\n",
       "      <td>0</td>\n",
       "      <td>0</td>\n",
       "      <td>0</td>\n",
       "      <td>1</td>\n",
       "      <td>3</td>\n",
       "      <td>0</td>\n",
       "      <td>0</td>\n",
       "      <td>35.0</td>\n",
       "      <td>30.6</td>\n",
       "      <td>82.99</td>\n",
       "    </tr>\n",
       "    <tr>\n",
       "      <th>5108</th>\n",
       "      <td>1</td>\n",
       "      <td>0</td>\n",
       "      <td>0</td>\n",
       "      <td>1</td>\n",
       "      <td>2</td>\n",
       "      <td>0</td>\n",
       "      <td>1</td>\n",
       "      <td>51.0</td>\n",
       "      <td>25.6</td>\n",
       "      <td>166.29</td>\n",
       "    </tr>\n",
       "    <tr>\n",
       "      <th>5109</th>\n",
       "      <td>0</td>\n",
       "      <td>0</td>\n",
       "      <td>0</td>\n",
       "      <td>1</td>\n",
       "      <td>0</td>\n",
       "      <td>1</td>\n",
       "      <td>0</td>\n",
       "      <td>44.0</td>\n",
       "      <td>26.2</td>\n",
       "      <td>85.28</td>\n",
       "    </tr>\n",
       "  </tbody>\n",
       "</table>\n",
       "<p>5110 rows × 10 columns</p>\n",
       "</div>"
      ],
      "text/plain": [
       "      gender  hypertension  heart_disease  ever_married  work_type  \\\n",
       "0          1             0              1             1          2   \n",
       "1          0             0              0             1          3   \n",
       "2          1             0              1             1          2   \n",
       "3          0             0              0             1          2   \n",
       "4          0             1              0             1          3   \n",
       "...      ...           ...            ...           ...        ...   \n",
       "5105       0             1              0             1          2   \n",
       "5106       0             0              0             1          3   \n",
       "5107       0             0              0             1          3   \n",
       "5108       1             0              0             1          2   \n",
       "5109       0             0              0             1          0   \n",
       "\n",
       "      Residence_type  age50_and_glucose150   age   bmi  avg_glucose_level  \n",
       "0                  1                     1  67.0  36.6             228.69  \n",
       "1                  0                     1  61.0  28.1             202.21  \n",
       "2                  0                     0  80.0  32.5             105.92  \n",
       "3                  1                     0  49.0  34.4             171.23  \n",
       "4                  0                     1  79.0  24.0             174.12  \n",
       "...              ...                   ...   ...   ...                ...  \n",
       "5105               1                     0  80.0  28.1              83.75  \n",
       "5106               1                     0  81.0  40.0             125.20  \n",
       "5107               0                     0  35.0  30.6              82.99  \n",
       "5108               0                     1  51.0  25.6             166.29  \n",
       "5109               1                     0  44.0  26.2              85.28  \n",
       "\n",
       "[5110 rows x 10 columns]"
      ]
     },
     "execution_count": 22,
     "metadata": {},
     "output_type": "execute_result"
    }
   ],
   "source": [
    "dfl = pd.DataFrame()\n",
    "\n",
    "label_col = ['gender', 'hypertension', 'heart_disease', 'ever_married', 'work_type',\n",
    "             'Residence_type', 'age50_and_glucose150']\n",
    "    \n",
    "dfl[label_col] = data[label_col]\n",
    "dfl_enc = dfl.apply(LabelEncoder().fit_transform)\n",
    "dfl_enc[['age', 'bmi', 'avg_glucose_level']] = data[['age', 'bmi', 'avg_glucose_level']]\n",
    "dfl_enc"
   ]
  },
  {
   "cell_type": "code",
   "execution_count": 23,
   "id": "JNjj57sLpem-",
   "metadata": {
    "id": "JNjj57sLpem-"
   },
   "outputs": [],
   "source": [
    "label = data['stroke'].values"
   ]
  },
  {
   "cell_type": "markdown",
   "id": "Hnr6ZYOfpem-",
   "metadata": {
    "id": "Hnr6ZYOfpem-"
   },
   "source": [
    "### First Attempt"
   ]
  },
  {
   "cell_type": "code",
   "execution_count": 24,
   "id": "GxOSNCwmpem-",
   "metadata": {
    "id": "GxOSNCwmpem-"
   },
   "outputs": [],
   "source": [
    "X_train, X_test, y_train, y_test = train_test_split(dfl_enc, label, random_state=1)\n",
    "\n",
    "scaler = StandardScaler()\n",
    "X_train = scaler.fit_transform(X_train)\n",
    "X_test = scaler.fit_transform(X_test)"
   ]
  },
  {
   "cell_type": "code",
   "execution_count": 25,
   "id": "ZQf2UNpdpem_",
   "metadata": {
    "id": "ZQf2UNpdpem_"
   },
   "outputs": [],
   "source": [
    "ran = RandomForestClassifier()\n",
    "knn = KNeighborsClassifier()\n",
    "log = LogisticRegression()\n",
    "xgb = XGBClassifier(eval_metric='logloss')\n",
    "gbm = LGBMClassifier()\n",
    "gbc = GradientBoostingClassifier()\n",
    "svc = SVC(probability=True)\n",
    "ext = ExtraTreesClassifier()\n",
    "ada = AdaBoostClassifier()\n",
    "gpc = GaussianProcessClassifier()\n",
    "bag = BaggingClassifier()\n",
    "\n",
    "models = [ran, knn, log, xgb, gbm, gbc, svc, ext, ada, gpc, bag]         \n",
    "model_names = ['Random Forest', 'K Nearest Neighbour', 'Logistic Regression', 'XGBoost', \n",
    "               'LightGBM', 'Gradient Boosting', 'SVC', 'Extra Trees', 'AdaBoost', \n",
    "               'Gaussian Process', 'Bagging Classifier']"
   ]
  },
  {
   "cell_type": "code",
   "execution_count": 26,
   "id": "conceptual-pricing",
   "metadata": {},
   "outputs": [
    {
     "data": {
      "text/html": [
       "<div>\n",
       "<style scoped>\n",
       "    .dataframe tbody tr th:only-of-type {\n",
       "        vertical-align: middle;\n",
       "    }\n",
       "\n",
       "    .dataframe tbody tr th {\n",
       "        vertical-align: top;\n",
       "    }\n",
       "\n",
       "    .dataframe thead th {\n",
       "        text-align: right;\n",
       "    }\n",
       "</style>\n",
       "<table border=\"1\" class=\"dataframe\">\n",
       "  <thead>\n",
       "    <tr style=\"text-align: right;\">\n",
       "      <th></th>\n",
       "      <th>0</th>\n",
       "      <th>1</th>\n",
       "      <th>2</th>\n",
       "      <th>3</th>\n",
       "      <th>4</th>\n",
       "      <th>mean</th>\n",
       "    </tr>\n",
       "  </thead>\n",
       "  <tbody>\n",
       "    <tr>\n",
       "      <th>AdaBoost</th>\n",
       "      <td>0.954368</td>\n",
       "      <td>0.953064</td>\n",
       "      <td>0.954308</td>\n",
       "      <td>0.956919</td>\n",
       "      <td>0.954308</td>\n",
       "      <td>0.954593</td>\n",
       "    </tr>\n",
       "    <tr>\n",
       "      <th>Random Forest</th>\n",
       "      <td>0.953064</td>\n",
       "      <td>0.954368</td>\n",
       "      <td>0.956919</td>\n",
       "      <td>0.955614</td>\n",
       "      <td>0.953003</td>\n",
       "      <td>0.954593</td>\n",
       "    </tr>\n",
       "    <tr>\n",
       "      <th>Logistic Regression</th>\n",
       "      <td>0.954368</td>\n",
       "      <td>0.954368</td>\n",
       "      <td>0.955614</td>\n",
       "      <td>0.954308</td>\n",
       "      <td>0.954308</td>\n",
       "      <td>0.954593</td>\n",
       "    </tr>\n",
       "    <tr>\n",
       "      <th>SVC</th>\n",
       "      <td>0.954368</td>\n",
       "      <td>0.954368</td>\n",
       "      <td>0.955614</td>\n",
       "      <td>0.954308</td>\n",
       "      <td>0.954308</td>\n",
       "      <td>0.954593</td>\n",
       "    </tr>\n",
       "    <tr>\n",
       "      <th>K Nearest Neighbour</th>\n",
       "      <td>0.949153</td>\n",
       "      <td>0.954368</td>\n",
       "      <td>0.955614</td>\n",
       "      <td>0.955614</td>\n",
       "      <td>0.954308</td>\n",
       "      <td>0.953811</td>\n",
       "    </tr>\n",
       "    <tr>\n",
       "      <th>Gradient Boosting</th>\n",
       "      <td>0.949153</td>\n",
       "      <td>0.953064</td>\n",
       "      <td>0.954308</td>\n",
       "      <td>0.953003</td>\n",
       "      <td>0.953003</td>\n",
       "      <td>0.952506</td>\n",
       "    </tr>\n",
       "    <tr>\n",
       "      <th>Gaussian Process</th>\n",
       "      <td>0.950456</td>\n",
       "      <td>0.951760</td>\n",
       "      <td>0.953003</td>\n",
       "      <td>0.953003</td>\n",
       "      <td>0.953003</td>\n",
       "      <td>0.952245</td>\n",
       "    </tr>\n",
       "    <tr>\n",
       "      <th>Bagging Classifier</th>\n",
       "      <td>0.947849</td>\n",
       "      <td>0.947849</td>\n",
       "      <td>0.949086</td>\n",
       "      <td>0.953003</td>\n",
       "      <td>0.956919</td>\n",
       "      <td>0.950941</td>\n",
       "    </tr>\n",
       "    <tr>\n",
       "      <th>Extra Trees</th>\n",
       "      <td>0.951760</td>\n",
       "      <td>0.950456</td>\n",
       "      <td>0.954308</td>\n",
       "      <td>0.950392</td>\n",
       "      <td>0.946475</td>\n",
       "      <td>0.950678</td>\n",
       "    </tr>\n",
       "    <tr>\n",
       "      <th>LightGBM</th>\n",
       "      <td>0.949153</td>\n",
       "      <td>0.954368</td>\n",
       "      <td>0.949086</td>\n",
       "      <td>0.953003</td>\n",
       "      <td>0.947781</td>\n",
       "      <td>0.950678</td>\n",
       "    </tr>\n",
       "    <tr>\n",
       "      <th>XGBoost</th>\n",
       "      <td>0.945241</td>\n",
       "      <td>0.950456</td>\n",
       "      <td>0.947781</td>\n",
       "      <td>0.949086</td>\n",
       "      <td>0.950392</td>\n",
       "      <td>0.948591</td>\n",
       "    </tr>\n",
       "  </tbody>\n",
       "</table>\n",
       "</div>"
      ],
      "text/plain": [
       "                            0         1         2         3         4  \\\n",
       "AdaBoost             0.954368  0.953064  0.954308  0.956919  0.954308   \n",
       "Random Forest        0.953064  0.954368  0.956919  0.955614  0.953003   \n",
       "Logistic Regression  0.954368  0.954368  0.955614  0.954308  0.954308   \n",
       "SVC                  0.954368  0.954368  0.955614  0.954308  0.954308   \n",
       "K Nearest Neighbour  0.949153  0.954368  0.955614  0.955614  0.954308   \n",
       "Gradient Boosting    0.949153  0.953064  0.954308  0.953003  0.953003   \n",
       "Gaussian Process     0.950456  0.951760  0.953003  0.953003  0.953003   \n",
       "Bagging Classifier   0.947849  0.947849  0.949086  0.953003  0.956919   \n",
       "Extra Trees          0.951760  0.950456  0.954308  0.950392  0.946475   \n",
       "LightGBM             0.949153  0.954368  0.949086  0.953003  0.947781   \n",
       "XGBoost              0.945241  0.950456  0.947781  0.949086  0.950392   \n",
       "\n",
       "                         mean  \n",
       "AdaBoost             0.954593  \n",
       "Random Forest        0.954593  \n",
       "Logistic Regression  0.954593  \n",
       "SVC                  0.954593  \n",
       "K Nearest Neighbour  0.953811  \n",
       "Gradient Boosting    0.952506  \n",
       "Gaussian Process     0.952245  \n",
       "Bagging Classifier   0.950941  \n",
       "Extra Trees          0.950678  \n",
       "LightGBM             0.950678  \n",
       "XGBoost              0.948591  "
      ]
     },
     "execution_count": 26,
     "metadata": {},
     "output_type": "execute_result"
    }
   ],
   "source": [
    "scores = {}\n",
    "\n",
    "for ind, mod in enumerate(models):\n",
    "    mod.fit(X_train, y_train)\n",
    "    score = cross_val_score(mod, X_train, y_train, scoring='accuracy', cv=5)\n",
    "    scores[model_names[ind]] = score\n",
    "\n",
    "results = pd.DataFrame(scores).T\n",
    "results['mean'] = results.mean(1)\n",
    "\n",
    "result_df = results.sort_values(by='mean', ascending=False)\n",
    "result_df"
   ]
  },
  {
   "cell_type": "markdown",
   "id": "collective-kazakhstan",
   "metadata": {},
   "source": [
    "Generally, accuracy seems fine. Does that mean the models are working well?"
   ]
  },
  {
   "cell_type": "code",
   "execution_count": 27,
   "id": "sacred-article",
   "metadata": {},
   "outputs": [],
   "source": [
    "def confusion_matrix2(clf, xtrain, ytrain, xtest, ytest):\n",
    "    mod = clf\n",
    "    mod.fit(xtrain, ytrain)\n",
    "    y_pred = mod.predict(xtest)\n",
    "\n",
    "    sns.heatmap(confusion_matrix(ytest, y_pred), fmt='.0f', annot=True, cmap='YlOrRd', cbar=False)\n",
    "    plt.title('Confusion matrix')\n",
    "    plt.ylabel('True')\n",
    "    plt.xlabel('Predicted')\n",
    "\n",
    "    print(f'Accuracy: {accuracy_score(ytest, y_pred)}')\n",
    "    print(f'Precision: {precision_score(ytest, y_pred)}')\n",
    "    print(f'Recall: {recall_score(ytest, y_pred)}')\n",
    "    print(f'F1-Score: {f1_score(ytest, y_pred)}')\n",
    "    print(f'F2-Score: {fbeta_score(ytest, y_pred, beta=2)}')"
   ]
  },
  {
   "cell_type": "code",
   "execution_count": 28,
   "id": "minor-opposition",
   "metadata": {},
   "outputs": [
    {
     "name": "stdout",
     "output_type": "stream",
     "text": [
      "Accuracy: 0.935054773082942\n",
      "Precision: 0.1\n",
      "Recall: 0.013333333333333334\n",
      "F1-Score: 0.023529411764705882\n",
      "F2-Score: 0.016129032258064516\n"
     ]
    },
    {
     "data": {
      "image/png": "[encoded data removed]",
      "text/plain": [
       "<Figure size 432x288 with 1 Axes>"
      ]
     },
     "metadata": {
      "needs_background": "light"
     },
     "output_type": "display_data"
    }
   ],
   "source": [
    "confusion_matrix2(BaggingClassifier(), X_train, y_train, X_test, y_test)"
   ]
  },
  {
   "cell_type": "markdown",
   "id": "thick-bristol",
   "metadata": {},
   "source": [
    "I picked up one model and looked at its confusion matrix. Model got 1% accuracy on actually positive data. But its total accuracy is 93.5% because the dataset is imbalanced. In this situation, can we say that this model is working well?\n",
    "In my opinion, it is not. Let me remind you that the purpose of medical prediction is to find people with disease. What's the point of examination if it cannot detect disease?\n",
    "The point is, relying on accuracy isn't very trustworthy in this case. \n",
    "\n",
    "$$recall = \\frac{TP}{FN + TP}$$\n",
    "\n",
    "Since the purpose of the is to find people who actually had stroke, recall score should be considered more importantly."
   ]
  },
  {
   "cell_type": "code",
   "execution_count": 29,
   "id": "floral-chassis",
   "metadata": {},
   "outputs": [
    {
     "data": {
      "text/html": [
       "<div>\n",
       "<style scoped>\n",
       "    .dataframe tbody tr th:only-of-type {\n",
       "        vertical-align: middle;\n",
       "    }\n",
       "\n",
       "    .dataframe tbody tr th {\n",
       "        vertical-align: top;\n",
       "    }\n",
       "\n",
       "    .dataframe thead th {\n",
       "        text-align: right;\n",
       "    }\n",
       "</style>\n",
       "<table border=\"1\" class=\"dataframe\">\n",
       "  <thead>\n",
       "    <tr style=\"text-align: right;\">\n",
       "      <th></th>\n",
       "      <th>0</th>\n",
       "      <th>1</th>\n",
       "      <th>2</th>\n",
       "      <th>3</th>\n",
       "      <th>4</th>\n",
       "      <th>mean</th>\n",
       "    </tr>\n",
       "  </thead>\n",
       "  <tbody>\n",
       "    <tr>\n",
       "      <th>XGBoost</th>\n",
       "      <td>0.057143</td>\n",
       "      <td>0.028571</td>\n",
       "      <td>0.058824</td>\n",
       "      <td>0.057143</td>\n",
       "      <td>0.142857</td>\n",
       "      <td>0.068908</td>\n",
       "    </tr>\n",
       "    <tr>\n",
       "      <th>LightGBM</th>\n",
       "      <td>0.057143</td>\n",
       "      <td>0.028571</td>\n",
       "      <td>0.088235</td>\n",
       "      <td>0.057143</td>\n",
       "      <td>0.085714</td>\n",
       "      <td>0.063361</td>\n",
       "    </tr>\n",
       "    <tr>\n",
       "      <th>Extra Trees</th>\n",
       "      <td>0.057143</td>\n",
       "      <td>0.057143</td>\n",
       "      <td>0.058824</td>\n",
       "      <td>0.114286</td>\n",
       "      <td>0.028571</td>\n",
       "      <td>0.063193</td>\n",
       "    </tr>\n",
       "    <tr>\n",
       "      <th>Bagging Classifier</th>\n",
       "      <td>0.028571</td>\n",
       "      <td>0.057143</td>\n",
       "      <td>0.088235</td>\n",
       "      <td>0.085714</td>\n",
       "      <td>0.028571</td>\n",
       "      <td>0.057647</td>\n",
       "    </tr>\n",
       "    <tr>\n",
       "      <th>Random Forest</th>\n",
       "      <td>0.057143</td>\n",
       "      <td>0.000000</td>\n",
       "      <td>0.058824</td>\n",
       "      <td>0.000000</td>\n",
       "      <td>0.028571</td>\n",
       "      <td>0.028908</td>\n",
       "    </tr>\n",
       "    <tr>\n",
       "      <th>Gradient Boosting</th>\n",
       "      <td>0.057143</td>\n",
       "      <td>0.000000</td>\n",
       "      <td>0.058824</td>\n",
       "      <td>0.000000</td>\n",
       "      <td>0.028571</td>\n",
       "      <td>0.028908</td>\n",
       "    </tr>\n",
       "    <tr>\n",
       "      <th>AdaBoost</th>\n",
       "      <td>0.057143</td>\n",
       "      <td>0.000000</td>\n",
       "      <td>0.000000</td>\n",
       "      <td>0.057143</td>\n",
       "      <td>0.000000</td>\n",
       "      <td>0.022857</td>\n",
       "    </tr>\n",
       "    <tr>\n",
       "      <th>K Nearest Neighbour</th>\n",
       "      <td>0.000000</td>\n",
       "      <td>0.000000</td>\n",
       "      <td>0.000000</td>\n",
       "      <td>0.057143</td>\n",
       "      <td>0.028571</td>\n",
       "      <td>0.017143</td>\n",
       "    </tr>\n",
       "    <tr>\n",
       "      <th>Gaussian Process</th>\n",
       "      <td>0.028571</td>\n",
       "      <td>0.057143</td>\n",
       "      <td>0.000000</td>\n",
       "      <td>0.000000</td>\n",
       "      <td>0.000000</td>\n",
       "      <td>0.017143</td>\n",
       "    </tr>\n",
       "    <tr>\n",
       "      <th>Logistic Regression</th>\n",
       "      <td>0.000000</td>\n",
       "      <td>0.028571</td>\n",
       "      <td>0.000000</td>\n",
       "      <td>0.000000</td>\n",
       "      <td>0.000000</td>\n",
       "      <td>0.005714</td>\n",
       "    </tr>\n",
       "    <tr>\n",
       "      <th>SVC</th>\n",
       "      <td>0.000000</td>\n",
       "      <td>0.000000</td>\n",
       "      <td>0.000000</td>\n",
       "      <td>0.000000</td>\n",
       "      <td>0.000000</td>\n",
       "      <td>0.000000</td>\n",
       "    </tr>\n",
       "  </tbody>\n",
       "</table>\n",
       "</div>"
      ],
      "text/plain": [
       "                            0         1         2         3         4  \\\n",
       "XGBoost              0.057143  0.028571  0.058824  0.057143  0.142857   \n",
       "LightGBM             0.057143  0.028571  0.088235  0.057143  0.085714   \n",
       "Extra Trees          0.057143  0.057143  0.058824  0.114286  0.028571   \n",
       "Bagging Classifier   0.028571  0.057143  0.088235  0.085714  0.028571   \n",
       "Random Forest        0.057143  0.000000  0.058824  0.000000  0.028571   \n",
       "Gradient Boosting    0.057143  0.000000  0.058824  0.000000  0.028571   \n",
       "AdaBoost             0.057143  0.000000  0.000000  0.057143  0.000000   \n",
       "K Nearest Neighbour  0.000000  0.000000  0.000000  0.057143  0.028571   \n",
       "Gaussian Process     0.028571  0.057143  0.000000  0.000000  0.000000   \n",
       "Logistic Regression  0.000000  0.028571  0.000000  0.000000  0.000000   \n",
       "SVC                  0.000000  0.000000  0.000000  0.000000  0.000000   \n",
       "\n",
       "                         mean  \n",
       "XGBoost              0.068908  \n",
       "LightGBM             0.063361  \n",
       "Extra Trees          0.063193  \n",
       "Bagging Classifier   0.057647  \n",
       "Random Forest        0.028908  \n",
       "Gradient Boosting    0.028908  \n",
       "AdaBoost             0.022857  \n",
       "K Nearest Neighbour  0.017143  \n",
       "Gaussian Process     0.017143  \n",
       "Logistic Regression  0.005714  \n",
       "SVC                  0.000000  "
      ]
     },
     "execution_count": 29,
     "metadata": {},
     "output_type": "execute_result"
    }
   ],
   "source": [
    "scores = {}\n",
    "\n",
    "for ind, mod in enumerate(models):\n",
    "    mod.fit(X_train, y_train)\n",
    "    y_pred = mod.predict(X_test)\n",
    "    score = cross_val_score(mod, X_train, y_train, scoring='recall', cv=5)\n",
    "    scores[model_names[ind]] = score\n",
    "\n",
    "results = pd.DataFrame(scores).T\n",
    "results['mean'] = results.mean(1)\n",
    "\n",
    "result_df = results.sort_values(by='mean', ascending=False)\n",
    "result_df"
   ]
  },
  {
   "cell_type": "markdown",
   "id": "flexible-forum",
   "metadata": {},
   "source": [
    "The result is disastrous."
   ]
  },
  {
   "cell_type": "code",
   "execution_count": 30,
   "id": "flying-translation",
   "metadata": {},
   "outputs": [
    {
     "data": {
      "text/html": [
       "<div>\n",
       "<style scoped>\n",
       "    .dataframe tbody tr th:only-of-type {\n",
       "        vertical-align: middle;\n",
       "    }\n",
       "\n",
       "    .dataframe tbody tr th {\n",
       "        vertical-align: top;\n",
       "    }\n",
       "\n",
       "    .dataframe thead th {\n",
       "        text-align: right;\n",
       "    }\n",
       "</style>\n",
       "<table border=\"1\" class=\"dataframe\">\n",
       "  <thead>\n",
       "    <tr style=\"text-align: right;\">\n",
       "      <th></th>\n",
       "      <th>0</th>\n",
       "      <th>1</th>\n",
       "      <th>2</th>\n",
       "      <th>3</th>\n",
       "      <th>4</th>\n",
       "      <th>mean</th>\n",
       "    </tr>\n",
       "  </thead>\n",
       "  <tbody>\n",
       "    <tr>\n",
       "      <th>Bagging Classifier</th>\n",
       "      <td>0.032895</td>\n",
       "      <td>0.068027</td>\n",
       "      <td>0.233333</td>\n",
       "      <td>0.067568</td>\n",
       "      <td>0.068493</td>\n",
       "      <td>0.094063</td>\n",
       "    </tr>\n",
       "    <tr>\n",
       "      <th>XGBoost</th>\n",
       "      <td>0.066225</td>\n",
       "      <td>0.034483</td>\n",
       "      <td>0.068493</td>\n",
       "      <td>0.067568</td>\n",
       "      <td>0.163399</td>\n",
       "      <td>0.080033</td>\n",
       "    </tr>\n",
       "    <tr>\n",
       "      <th>Extra Trees</th>\n",
       "      <td>0.068966</td>\n",
       "      <td>0.034483</td>\n",
       "      <td>0.105634</td>\n",
       "      <td>0.101351</td>\n",
       "      <td>0.066667</td>\n",
       "      <td>0.075420</td>\n",
       "    </tr>\n",
       "    <tr>\n",
       "      <th>LightGBM</th>\n",
       "      <td>0.067568</td>\n",
       "      <td>0.035211</td>\n",
       "      <td>0.102041</td>\n",
       "      <td>0.068966</td>\n",
       "      <td>0.099338</td>\n",
       "      <td>0.074625</td>\n",
       "    </tr>\n",
       "    <tr>\n",
       "      <th>Random Forest</th>\n",
       "      <td>0.034965</td>\n",
       "      <td>0.000000</td>\n",
       "      <td>0.071942</td>\n",
       "      <td>0.069444</td>\n",
       "      <td>0.034965</td>\n",
       "      <td>0.042263</td>\n",
       "    </tr>\n",
       "    <tr>\n",
       "      <th>Gradient Boosting</th>\n",
       "      <td>0.067568</td>\n",
       "      <td>0.000000</td>\n",
       "      <td>0.070922</td>\n",
       "      <td>0.000000</td>\n",
       "      <td>0.034965</td>\n",
       "      <td>0.034691</td>\n",
       "    </tr>\n",
       "    <tr>\n",
       "      <th>AdaBoost</th>\n",
       "      <td>0.069444</td>\n",
       "      <td>0.000000</td>\n",
       "      <td>0.000000</td>\n",
       "      <td>0.070423</td>\n",
       "      <td>0.000000</td>\n",
       "      <td>0.027973</td>\n",
       "    </tr>\n",
       "    <tr>\n",
       "      <th>K Nearest Neighbour</th>\n",
       "      <td>0.000000</td>\n",
       "      <td>0.000000</td>\n",
       "      <td>0.000000</td>\n",
       "      <td>0.069930</td>\n",
       "      <td>0.035211</td>\n",
       "      <td>0.021028</td>\n",
       "    </tr>\n",
       "    <tr>\n",
       "      <th>Gaussian Process</th>\n",
       "      <td>0.034483</td>\n",
       "      <td>0.068493</td>\n",
       "      <td>0.000000</td>\n",
       "      <td>0.000000</td>\n",
       "      <td>0.000000</td>\n",
       "      <td>0.020595</td>\n",
       "    </tr>\n",
       "    <tr>\n",
       "      <th>Logistic Regression</th>\n",
       "      <td>0.000000</td>\n",
       "      <td>0.035211</td>\n",
       "      <td>0.000000</td>\n",
       "      <td>0.000000</td>\n",
       "      <td>0.000000</td>\n",
       "      <td>0.007042</td>\n",
       "    </tr>\n",
       "    <tr>\n",
       "      <th>SVC</th>\n",
       "      <td>0.000000</td>\n",
       "      <td>0.000000</td>\n",
       "      <td>0.000000</td>\n",
       "      <td>0.000000</td>\n",
       "      <td>0.000000</td>\n",
       "      <td>0.000000</td>\n",
       "    </tr>\n",
       "  </tbody>\n",
       "</table>\n",
       "</div>"
      ],
      "text/plain": [
       "                            0         1         2         3         4  \\\n",
       "Bagging Classifier   0.032895  0.068027  0.233333  0.067568  0.068493   \n",
       "XGBoost              0.066225  0.034483  0.068493  0.067568  0.163399   \n",
       "Extra Trees          0.068966  0.034483  0.105634  0.101351  0.066667   \n",
       "LightGBM             0.067568  0.035211  0.102041  0.068966  0.099338   \n",
       "Random Forest        0.034965  0.000000  0.071942  0.069444  0.034965   \n",
       "Gradient Boosting    0.067568  0.000000  0.070922  0.000000  0.034965   \n",
       "AdaBoost             0.069444  0.000000  0.000000  0.070423  0.000000   \n",
       "K Nearest Neighbour  0.000000  0.000000  0.000000  0.069930  0.035211   \n",
       "Gaussian Process     0.034483  0.068493  0.000000  0.000000  0.000000   \n",
       "Logistic Regression  0.000000  0.035211  0.000000  0.000000  0.000000   \n",
       "SVC                  0.000000  0.000000  0.000000  0.000000  0.000000   \n",
       "\n",
       "                         mean  \n",
       "Bagging Classifier   0.094063  \n",
       "XGBoost              0.080033  \n",
       "Extra Trees          0.075420  \n",
       "LightGBM             0.074625  \n",
       "Random Forest        0.042263  \n",
       "Gradient Boosting    0.034691  \n",
       "AdaBoost             0.027973  \n",
       "K Nearest Neighbour  0.021028  \n",
       "Gaussian Process     0.020595  \n",
       "Logistic Regression  0.007042  \n",
       "SVC                  0.000000  "
      ]
     },
     "execution_count": 30,
     "metadata": {},
     "output_type": "execute_result"
    }
   ],
   "source": [
    "scores = {}\n",
    "\n",
    "ftwo_scorer = make_scorer(fbeta_score, beta=2)\n",
    "\n",
    "for ind, mod in enumerate(models):\n",
    "    mod.fit(X_train, y_train)\n",
    "    y_pred = mod.predict(X_test)\n",
    "    acc = cross_val_score(mod, X_train, y_train, scoring=ftwo_scorer, cv=5)\n",
    "    scores[model_names[ind]] = acc\n",
    "\n",
    "results = pd.DataFrame(scores).T\n",
    "results['mean'] = results.mean(1)\n",
    "\n",
    "result_df = results.sort_values(by='mean', ascending=False)\n",
    "result_df.head(12)"
   ]
  },
  {
   "cell_type": "markdown",
   "id": "swedish-tackle",
   "metadata": {},
   "source": [
    "$$F_{\\beta} = (1 + \\beta^2) \\cdot \\frac{precision \\cdot recall }{(1 + \\beta^2) precision + recall}$$\n",
    "\n",
    "F beta score, or F2 score, can be used when you want to put more weight on precision or recall over other. $\\beta = 2$ is commonly used when you prioritize recall over precision."
   ]
  },
  {
   "cell_type": "markdown",
   "id": "qocDJdQhpem_",
   "metadata": {
    "id": "qocDJdQhpem_"
   },
   "source": [
    "### Sampling Strategies"
   ]
  },
  {
   "cell_type": "markdown",
   "id": "welcome-module",
   "metadata": {},
   "source": [
    "We should also talk about sampling methodology. Previously, model cannot because the number of positive data was relatively small.\n",
    "To overcome the imbalance of data, we should over/undersample certain data to match the number."
   ]
  },
  {
   "cell_type": "code",
   "execution_count": 31,
   "id": "medieval-courtesy",
   "metadata": {},
   "outputs": [],
   "source": [
    "def pr_auc_score(clf, x, y):\n",
    "    precisions, recalls, _ = precision_recall_curve(y, clf.predict_proba(x)[:,1], pos_label=1)\n",
    "    return auc(recalls, precisions)"
   ]
  },
  {
   "cell_type": "code",
   "execution_count": 32,
   "id": "cooperative-offering",
   "metadata": {},
   "outputs": [],
   "source": [
    "def imbalanced_cross_validation_score(clf, x, y, cv, scoring, sampler):\n",
    "    cv_score = 0.\n",
    "    train_score = 0.\n",
    "    test_score = 0.\n",
    "    \n",
    "    skf = StratifiedKFold(n_splits=cv, random_state=0, shuffle=True)\n",
    "    \n",
    "    for train_idx, test_idx in skf.split(x,y):\n",
    "        \n",
    "        xfold_train_sampled, yfold_train_sampled = sampler.fit_resample(x[train_idx, :],y[train_idx]) # when x is an array\n",
    "        #xfold_train_sampled, yfold_train_sampled = sampler.fit_resample(x.iloc[train_idx, :],y[train_idx]) # when x is a dataframe\n",
    "        clf.fit(xfold_train_sampled, yfold_train_sampled)\n",
    "        \n",
    "        train_score = scoring(clf, xfold_train_sampled, yfold_train_sampled)\n",
    "        test_score  = scoring(clf, x[test_idx, :], y[test_idx]) # when x is an array\n",
    "        #test_score  = scoring(clf, x.iloc[test_idx, :], y[test_idx]) # when x is a dataframe\n",
    "\n",
    "        cv_score += test_score\n",
    "        \n",
    "    return cv_score/cv"
   ]
  },
  {
   "cell_type": "code",
   "execution_count": 33,
   "id": "resistant-frederick",
   "metadata": {},
   "outputs": [],
   "source": [
    "def cv_scores_by_models(models, x, y, cv, scoring, sampler):\n",
    "    scores = {}\n",
    "\n",
    "    for ind, mod in enumerate(models):\n",
    "        scores[model_names[ind]] = imbalanced_cross_validation_score(mod, x, y, cv, scoring, sampler)\n",
    "\n",
    "    results = pd.DataFrame(scores, index=[f'{sampler}_score']).T.sort_values(by=f'{sampler}_score', ascending=False).reset_index().rename({'index':'classifier'}, axis=1)\n",
    "    return results"
   ]
  },
  {
   "cell_type": "markdown",
   "id": "floating-proposition",
   "metadata": {},
   "source": [
    "#### Oversampling"
   ]
  },
  {
   "cell_type": "code",
   "execution_count": 34,
   "id": "classical-housing",
   "metadata": {},
   "outputs": [],
   "source": [
    "smote = cv_scores_by_models(models, X_train, y_train, 5, pr_auc_score, SMOTE(random_state=1))"
   ]
  },
  {
   "cell_type": "code",
   "execution_count": 35,
   "id": "harmful-welsh",
   "metadata": {},
   "outputs": [],
   "source": [
    "adasyn = cv_scores_by_models(models, X_train, y_train, 5, pr_auc_score, ADASYN(random_state=1))"
   ]
  },
  {
   "cell_type": "code",
   "execution_count": 36,
   "id": "continuing-cream",
   "metadata": {},
   "outputs": [],
   "source": [
    "randomoversampler = cv_scores_by_models(models, X_train, y_train, 5, pr_auc_score, RandomOverSampler(random_state=1))"
   ]
  },
  {
   "cell_type": "markdown",
   "id": "standing-training",
   "metadata": {},
   "source": [
    "#### UnderSampling"
   ]
  },
  {
   "cell_type": "code",
   "execution_count": 37,
   "id": "north-philip",
   "metadata": {},
   "outputs": [],
   "source": [
    "randomundersampler = cv_scores_by_models(models, X_train, y_train, 5, pr_auc_score, RandomUnderSampler(random_state=1))"
   ]
  },
  {
   "cell_type": "code",
   "execution_count": 38,
   "id": "modified-twist",
   "metadata": {},
   "outputs": [],
   "source": [
    "tomeklinks = cv_scores_by_models(models, X_train, y_train, 5, pr_auc_score, TomekLinks())"
   ]
  },
  {
   "cell_type": "code",
   "execution_count": 39,
   "id": "optical-chancellor",
   "metadata": {},
   "outputs": [],
   "source": [
    "clustercentroids = cv_scores_by_models(models, X_train, y_train, 5, pr_auc_score, ClusterCentroids(random_state=1))"
   ]
  },
  {
   "cell_type": "markdown",
   "id": "neural-milan",
   "metadata": {},
   "source": [
    "#### Combined sampling"
   ]
  },
  {
   "cell_type": "code",
   "execution_count": 40,
   "id": "modified-toilet",
   "metadata": {},
   "outputs": [],
   "source": [
    "smotetomek = cv_scores_by_models(models, X_train, y_train, 5, pr_auc_score, SMOTETomek(random_state=1))"
   ]
  },
  {
   "cell_type": "code",
   "execution_count": 41,
   "id": "signed-retention",
   "metadata": {},
   "outputs": [
    {
     "data": {
      "text/html": [
       "<style  type=\"text/css\" >\n",
       "#T_8ee38_row0_col1,#T_8ee38_row0_col7,#T_8ee38_row1_col4,#T_8ee38_row3_col5,#T_8ee38_row4_col5{\n",
       "            background-color:  #fed976;\n",
       "            color:  #000000;\n",
       "        }#T_8ee38_row0_col2,#T_8ee38_row4_col3{\n",
       "            background-color:  #fed774;\n",
       "            color:  #000000;\n",
       "        }#T_8ee38_row0_col3,#T_8ee38_row0_col5,#T_8ee38_row6_col6{\n",
       "            background-color:  #fed16e;\n",
       "            color:  #000000;\n",
       "        }#T_8ee38_row0_col4,#T_8ee38_row1_col7,#T_8ee38_row6_col4{\n",
       "            background-color:  #fed977;\n",
       "            color:  #000000;\n",
       "        }#T_8ee38_row0_col6,#T_8ee38_row3_col1,#T_8ee38_row4_col1,#T_8ee38_row5_col6{\n",
       "            background-color:  #fee289;\n",
       "            color:  #000000;\n",
       "        }#T_8ee38_row1_col1,#T_8ee38_row3_col6{\n",
       "            background-color:  #fedb7a;\n",
       "            color:  #000000;\n",
       "        }#T_8ee38_row1_col2{\n",
       "            background-color:  #fedf83;\n",
       "            color:  #000000;\n",
       "        }#T_8ee38_row1_col3{\n",
       "            background-color:  #fee085;\n",
       "            color:  #000000;\n",
       "        }#T_8ee38_row1_col5,#T_8ee38_row5_col5,#T_8ee38_row9_col2,#T_8ee38_row9_col5{\n",
       "            background-color:  #ffea9b;\n",
       "            color:  #000000;\n",
       "        }#T_8ee38_row1_col6{\n",
       "            background-color:  #fff8ba;\n",
       "            color:  #000000;\n",
       "        }#T_8ee38_row2_col1,#T_8ee38_row2_col2{\n",
       "            background-color:  #fee288;\n",
       "            color:  #000000;\n",
       "        }#T_8ee38_row2_col3{\n",
       "            background-color:  #fece6a;\n",
       "            color:  #000000;\n",
       "        }#T_8ee38_row2_col4,#T_8ee38_row2_col6{\n",
       "            background-color:  #fecf6b;\n",
       "            color:  #000000;\n",
       "        }#T_8ee38_row2_col5{\n",
       "            background-color:  #fecb67;\n",
       "            color:  #000000;\n",
       "        }#T_8ee38_row2_col7{\n",
       "            background-color:  #fede80;\n",
       "            color:  #000000;\n",
       "        }#T_8ee38_row3_col2{\n",
       "            background-color:  #ffea99;\n",
       "            color:  #000000;\n",
       "        }#T_8ee38_row3_col3,#T_8ee38_row10_col6{\n",
       "            background-color:  #fedd7e;\n",
       "            color:  #000000;\n",
       "        }#T_8ee38_row3_col4{\n",
       "            background-color:  #fedb7b;\n",
       "            color:  #000000;\n",
       "        }#T_8ee38_row3_col7,#T_8ee38_row5_col2,#T_8ee38_row6_col1,#T_8ee38_row9_col4{\n",
       "            background-color:  #ffe998;\n",
       "            color:  #000000;\n",
       "        }#T_8ee38_row4_col2,#T_8ee38_row4_col7{\n",
       "            background-color:  #fee38b;\n",
       "            color:  #000000;\n",
       "        }#T_8ee38_row4_col4{\n",
       "            background-color:  #ffe997;\n",
       "            color:  #000000;\n",
       "        }#T_8ee38_row4_col6,#T_8ee38_row6_col2,#T_8ee38_row7_col1,#T_8ee38_row7_col2{\n",
       "            background-color:  #ffeb9c;\n",
       "            color:  #000000;\n",
       "        }#T_8ee38_row5_col1,#T_8ee38_row5_col7,#T_8ee38_row7_col7,#T_8ee38_row8_col3{\n",
       "            background-color:  #ffe794;\n",
       "            color:  #000000;\n",
       "        }#T_8ee38_row5_col3{\n",
       "            background-color:  #ffe590;\n",
       "            color:  #000000;\n",
       "        }#T_8ee38_row5_col4,#T_8ee38_row7_col6,#T_8ee38_row10_col5{\n",
       "            background-color:  #fedd7f;\n",
       "            color:  #000000;\n",
       "        }#T_8ee38_row6_col3,#T_8ee38_row7_col5{\n",
       "            background-color:  #feda78;\n",
       "            color:  #000000;\n",
       "        }#T_8ee38_row6_col5{\n",
       "            background-color:  #fed36f;\n",
       "            color:  #000000;\n",
       "        }#T_8ee38_row6_col7{\n",
       "            background-color:  #ffe793;\n",
       "            color:  #000000;\n",
       "        }#T_8ee38_row7_col3,#T_8ee38_row10_col4{\n",
       "            background-color:  #fee187;\n",
       "            color:  #000000;\n",
       "        }#T_8ee38_row7_col4{\n",
       "            background-color:  #fede82;\n",
       "            color:  #000000;\n",
       "        }#T_8ee38_row8_col1,#T_8ee38_row9_col1,#T_8ee38_row9_col7{\n",
       "            background-color:  #ffec9d;\n",
       "            color:  #000000;\n",
       "        }#T_8ee38_row8_col2,#T_8ee38_row9_col6{\n",
       "            background-color:  #fff0a8;\n",
       "            color:  #000000;\n",
       "        }#T_8ee38_row8_col4{\n",
       "            background-color:  #feb44e;\n",
       "            color:  #000000;\n",
       "        }#T_8ee38_row8_col5{\n",
       "            background-color:  #fed572;\n",
       "            color:  #000000;\n",
       "        }#T_8ee38_row8_col6{\n",
       "            background-color:  #fc532b;\n",
       "            color:  #000000;\n",
       "        }#T_8ee38_row8_col7{\n",
       "            background-color:  #fff1ab;\n",
       "            color:  #000000;\n",
       "        }#T_8ee38_row9_col3{\n",
       "            background-color:  #ffec9f;\n",
       "            color:  #000000;\n",
       "        }#T_8ee38_row10_col1{\n",
       "            background-color:  #ffeea3;\n",
       "            color:  #000000;\n",
       "        }#T_8ee38_row10_col2{\n",
       "            background-color:  #ffefa5;\n",
       "            color:  #000000;\n",
       "        }#T_8ee38_row10_col3{\n",
       "            background-color:  #ffe58f;\n",
       "            color:  #000000;\n",
       "        }#T_8ee38_row10_col7{\n",
       "            background-color:  #ffeda0;\n",
       "            color:  #000000;\n",
       "        }</style><table id=\"T_8ee38_\" ><thead>    <tr>        <th class=\"blank level0\" ></th>        <th class=\"col_heading level0 col0\" >classifier</th>        <th class=\"col_heading level0 col1\" >SMOTE(random_state=1)_score</th>        <th class=\"col_heading level0 col2\" >ADASYN(random_state=1)_score</th>        <th class=\"col_heading level0 col3\" >RandomOverSampler(random_state=1)_score</th>        <th class=\"col_heading level0 col4\" >RandomUnderSampler(random_state=1)_score</th>        <th class=\"col_heading level0 col5\" >TomekLinks()_score</th>        <th class=\"col_heading level0 col6\" >ClusterCentroids(random_state=1)_score</th>        <th class=\"col_heading level0 col7\" >SMOTETomek(random_state=1)_score</th>    </tr></thead><tbody>\n",
       "                <tr>\n",
       "                        <th id=\"T_8ee38_level0_row0\" class=\"row_heading level0 row0\" >0</th>\n",
       "                        <td id=\"T_8ee38_row0_col0\" class=\"data row0 col0\" >Logistic Regression</td>\n",
       "                        <td id=\"T_8ee38_row0_col1\" class=\"data row0 col1\" >0.164256</td>\n",
       "                        <td id=\"T_8ee38_row0_col2\" class=\"data row0 col2\" >0.165365</td>\n",
       "                        <td id=\"T_8ee38_row0_col3\" class=\"data row0 col3\" >0.173548</td>\n",
       "                        <td id=\"T_8ee38_row0_col4\" class=\"data row0 col4\" >0.161029</td>\n",
       "                        <td id=\"T_8ee38_row0_col5\" class=\"data row0 col5\" >0.174254</td>\n",
       "                        <td id=\"T_8ee38_row0_col6\" class=\"data row0 col6\" >0.136895</td>\n",
       "                        <td id=\"T_8ee38_row0_col7\" class=\"data row0 col7\" >0.163658</td>\n",
       "            </tr>\n",
       "            <tr>\n",
       "                        <th id=\"T_8ee38_level0_row1\" class=\"row_heading level0 row1\" >1</th>\n",
       "                        <td id=\"T_8ee38_row1_col0\" class=\"data row1 col0\" >K Nearest Neighbour</td>\n",
       "                        <td id=\"T_8ee38_row1_col1\" class=\"data row1 col1\" >0.158067</td>\n",
       "                        <td id=\"T_8ee38_row1_col2\" class=\"data row1 col2\" >0.145801</td>\n",
       "                        <td id=\"T_8ee38_row1_col3\" class=\"data row1 col3\" >0.141588</td>\n",
       "                        <td id=\"T_8ee38_row1_col4\" class=\"data row1 col4\" >0.164174</td>\n",
       "                        <td id=\"T_8ee38_row1_col5\" class=\"data row1 col5\" >0.113757</td>\n",
       "                        <td id=\"T_8ee38_row1_col6\" class=\"data row1 col6\" >0.073632</td>\n",
       "                        <td id=\"T_8ee38_row1_col7\" class=\"data row1 col7\" >0.161811</td>\n",
       "            </tr>\n",
       "            <tr>\n",
       "                        <th id=\"T_8ee38_level0_row2\" class=\"row_heading level0 row2\" >2</th>\n",
       "                        <td id=\"T_8ee38_row2_col0\" class=\"data row2 col0\" >Gradient Boosting</td>\n",
       "                        <td id=\"T_8ee38_row2_col1\" class=\"data row2 col1\" >0.138624</td>\n",
       "                        <td id=\"T_8ee38_row2_col2\" class=\"data row2 col2\" >0.137919</td>\n",
       "                        <td id=\"T_8ee38_row2_col3\" class=\"data row2 col3\" >0.179863</td>\n",
       "                        <td id=\"T_8ee38_row2_col4\" class=\"data row2 col4\" >0.177683</td>\n",
       "                        <td id=\"T_8ee38_row2_col5\" class=\"data row2 col5\" >0.182762</td>\n",
       "                        <td id=\"T_8ee38_row2_col6\" class=\"data row2 col6\" >0.177463</td>\n",
       "                        <td id=\"T_8ee38_row2_col7\" class=\"data row2 col7\" >0.148839</td>\n",
       "            </tr>\n",
       "            <tr>\n",
       "                        <th id=\"T_8ee38_level0_row3\" class=\"row_heading level0 row3\" >3</th>\n",
       "                        <td id=\"T_8ee38_row3_col0\" class=\"data row3 col0\" >LightGBM</td>\n",
       "                        <td id=\"T_8ee38_row3_col1\" class=\"data row3 col1\" >0.137488</td>\n",
       "                        <td id=\"T_8ee38_row3_col2\" class=\"data row3 col2\" >0.115829</td>\n",
       "                        <td id=\"T_8ee38_row3_col3\" class=\"data row3 col3\" >0.152090</td>\n",
       "                        <td id=\"T_8ee38_row3_col4\" class=\"data row3 col4\" >0.155932</td>\n",
       "                        <td id=\"T_8ee38_row3_col5\" class=\"data row3 col5\" >0.163653</td>\n",
       "                        <td id=\"T_8ee38_row3_col6\" class=\"data row3 col6\" >0.157540</td>\n",
       "                        <td id=\"T_8ee38_row3_col7\" class=\"data row3 col7\" >0.117773</td>\n",
       "            </tr>\n",
       "            <tr>\n",
       "                        <th id=\"T_8ee38_level0_row4\" class=\"row_heading level0 row4\" >4</th>\n",
       "                        <td id=\"T_8ee38_row4_col0\" class=\"data row4 col0\" >AdaBoost</td>\n",
       "                        <td id=\"T_8ee38_row4_col1\" class=\"data row4 col1\" >0.137378</td>\n",
       "                        <td id=\"T_8ee38_row4_col2\" class=\"data row4 col2\" >0.134822</td>\n",
       "                        <td id=\"T_8ee38_row4_col3\" class=\"data row4 col3\" >0.165472</td>\n",
       "                        <td id=\"T_8ee38_row4_col4\" class=\"data row4 col4\" >0.119477</td>\n",
       "                        <td id=\"T_8ee38_row4_col5\" class=\"data row4 col5\" >0.163100</td>\n",
       "                        <td id=\"T_8ee38_row4_col6\" class=\"data row4 col6\" >0.112744</td>\n",
       "                        <td id=\"T_8ee38_row4_col7\" class=\"data row4 col7\" >0.134481</td>\n",
       "            </tr>\n",
       "            <tr>\n",
       "                        <th id=\"T_8ee38_level0_row5\" class=\"row_heading level0 row5\" >5</th>\n",
       "                        <td id=\"T_8ee38_row5_col0\" class=\"data row5 col0\" >SVC</td>\n",
       "                        <td id=\"T_8ee38_row5_col1\" class=\"data row5 col1\" >0.123287</td>\n",
       "                        <td id=\"T_8ee38_row5_col2\" class=\"data row5 col2\" >0.117543</td>\n",
       "                        <td id=\"T_8ee38_row5_col3\" class=\"data row5 col3\" >0.128920</td>\n",
       "                        <td id=\"T_8ee38_row5_col4\" class=\"data row5 col4\" >0.150933</td>\n",
       "                        <td id=\"T_8ee38_row5_col5\" class=\"data row5 col5\" >0.114861</td>\n",
       "                        <td id=\"T_8ee38_row5_col6\" class=\"data row5 col6\" >0.137766</td>\n",
       "                        <td id=\"T_8ee38_row5_col7\" class=\"data row5 col7\" >0.123291</td>\n",
       "            </tr>\n",
       "            <tr>\n",
       "                        <th id=\"T_8ee38_level0_row6\" class=\"row_heading level0 row6\" >6</th>\n",
       "                        <td id=\"T_8ee38_row6_col0\" class=\"data row6 col0\" >Random Forest</td>\n",
       "                        <td id=\"T_8ee38_row6_col1\" class=\"data row6 col1\" >0.117863</td>\n",
       "                        <td id=\"T_8ee38_row6_col2\" class=\"data row6 col2\" >0.112439</td>\n",
       "                        <td id=\"T_8ee38_row6_col3\" class=\"data row6 col3\" >0.160371</td>\n",
       "                        <td id=\"T_8ee38_row6_col4\" class=\"data row6 col4\" >0.162147</td>\n",
       "                        <td id=\"T_8ee38_row6_col5\" class=\"data row6 col5\" >0.171766</td>\n",
       "                        <td id=\"T_8ee38_row6_col6\" class=\"data row6 col6\" >0.173430</td>\n",
       "                        <td id=\"T_8ee38_row6_col7\" class=\"data row6 col7\" >0.125212</td>\n",
       "            </tr>\n",
       "            <tr>\n",
       "                        <th id=\"T_8ee38_level0_row7\" class=\"row_heading level0 row7\" >7</th>\n",
       "                        <td id=\"T_8ee38_row7_col0\" class=\"data row7 col0\" >XGBoost</td>\n",
       "                        <td id=\"T_8ee38_row7_col1\" class=\"data row7 col1\" >0.112139</td>\n",
       "                        <td id=\"T_8ee38_row7_col2\" class=\"data row7 col2\" >0.111552</td>\n",
       "                        <td id=\"T_8ee38_row7_col3\" class=\"data row7 col3\" >0.139711</td>\n",
       "                        <td id=\"T_8ee38_row7_col4\" class=\"data row7 col4\" >0.147795</td>\n",
       "                        <td id=\"T_8ee38_row7_col5\" class=\"data row7 col5\" >0.159249</td>\n",
       "                        <td id=\"T_8ee38_row7_col6\" class=\"data row7 col6\" >0.151208</td>\n",
       "                        <td id=\"T_8ee38_row7_col7\" class=\"data row7 col7\" >0.122803</td>\n",
       "            </tr>\n",
       "            <tr>\n",
       "                        <th id=\"T_8ee38_level0_row8\" class=\"row_heading level0 row8\" >8</th>\n",
       "                        <td id=\"T_8ee38_row8_col0\" class=\"data row8 col0\" >Bagging Classifier</td>\n",
       "                        <td id=\"T_8ee38_row8_col1\" class=\"data row8 col1\" >0.111255</td>\n",
       "                        <td id=\"T_8ee38_row8_col2\" class=\"data row8 col2\" >0.096399</td>\n",
       "                        <td id=\"T_8ee38_row8_col3\" class=\"data row8 col3\" >0.123383</td>\n",
       "                        <td id=\"T_8ee38_row8_col4\" class=\"data row8 col4\" >0.216606</td>\n",
       "                        <td id=\"T_8ee38_row8_col5\" class=\"data row8 col5\" >0.168148</td>\n",
       "                        <td id=\"T_8ee38_row8_col6\" class=\"data row8 col6\" >0.325977</td>\n",
       "                        <td id=\"T_8ee38_row8_col7\" class=\"data row8 col7\" >0.093501</td>\n",
       "            </tr>\n",
       "            <tr>\n",
       "                        <th id=\"T_8ee38_level0_row9\" class=\"row_heading level0 row9\" >9</th>\n",
       "                        <td id=\"T_8ee38_row9_col0\" class=\"data row9 col0\" >Gaussian Process</td>\n",
       "                        <td id=\"T_8ee38_row9_col1\" class=\"data row9 col1\" >0.111040</td>\n",
       "                        <td id=\"T_8ee38_row9_col2\" class=\"data row9 col2\" >0.114518</td>\n",
       "                        <td id=\"T_8ee38_row9_col3\" class=\"data row9 col3\" >0.108589</td>\n",
       "                        <td id=\"T_8ee38_row9_col4\" class=\"data row9 col4\" >0.117109</td>\n",
       "                        <td id=\"T_8ee38_row9_col5\" class=\"data row9 col5\" >0.113416</td>\n",
       "                        <td id=\"T_8ee38_row9_col6\" class=\"data row9 col6\" >0.097262</td>\n",
       "                        <td id=\"T_8ee38_row9_col7\" class=\"data row9 col7\" >0.110024</td>\n",
       "            </tr>\n",
       "            <tr>\n",
       "                        <th id=\"T_8ee38_level0_row10\" class=\"row_heading level0 row10\" >10</th>\n",
       "                        <td id=\"T_8ee38_row10_col0\" class=\"data row10 col0\" >Extra Trees</td>\n",
       "                        <td id=\"T_8ee38_row10_col1\" class=\"data row10 col1\" >0.104115</td>\n",
       "                        <td id=\"T_8ee38_row10_col2\" class=\"data row10 col2\" >0.100016</td>\n",
       "                        <td id=\"T_8ee38_row10_col3\" class=\"data row10 col3\" >0.130260</td>\n",
       "                        <td id=\"T_8ee38_row10_col4\" class=\"data row10 col4\" >0.140057</td>\n",
       "                        <td id=\"T_8ee38_row10_col5\" class=\"data row10 col5\" >0.150500</td>\n",
       "                        <td id=\"T_8ee38_row10_col6\" class=\"data row10 col6\" >0.153018</td>\n",
       "                        <td id=\"T_8ee38_row10_col7\" class=\"data row10 col7\" >0.106957</td>\n",
       "            </tr>\n",
       "    </tbody></table>"
      ],
      "text/plain": [
       "<pandas.io.formats.style.Styler at 0x26f5612b220>"
      ]
     },
     "execution_count": 41,
     "metadata": {},
     "output_type": "execute_result"
    }
   ],
   "source": [
    "sampler_score_list = [smote, adasyn, randomoversampler, randomundersampler, tomeklinks, clustercentroids, smotetomek]\n",
    "sampler_score_df = pd.DataFrame()\n",
    "for i in range(len(sampler_score_list)):\n",
    "    if i == 0:\n",
    "        sampler_score_df = sampler_score_list[i]\n",
    "    else:\n",
    "        sampler_score_df = sampler_score_df.merge(sampler_score_list[i], how='left', on='classifier')\n",
    "        \n",
    "sampler_score_df.style.background_gradient(cmap='YlOrRd', vmin=0.05, vmax=0.5)"
   ]
  },
  {
   "cell_type": "markdown",
   "id": "stopped-leisure",
   "metadata": {},
   "source": [
    "There is one combination that stood up: using Cluster Centroids as sampling method and Bagging Classifier as an algorithm."
   ]
  },
  {
   "cell_type": "markdown",
   "id": "isolated-morgan",
   "metadata": {},
   "source": [
    "Let's see if we can improve the score by tuning hyperparameters."
   ]
  },
  {
   "cell_type": "code",
   "execution_count": 42,
   "id": "lasting-initial",
   "metadata": {},
   "outputs": [
    {
     "data": {
      "text/plain": [
       "Counter({0: 3658, 1: 174})"
      ]
     },
     "execution_count": 42,
     "metadata": {},
     "output_type": "execute_result"
    }
   ],
   "source": [
    "Counter(y_train)"
   ]
  },
  {
   "cell_type": "code",
   "execution_count": 43,
   "id": "white-underground",
   "metadata": {},
   "outputs": [
    {
     "data": {
      "text/plain": [
       "Counter({0: 174, 1: 174})"
      ]
     },
     "execution_count": 43,
     "metadata": {},
     "output_type": "execute_result"
    }
   ],
   "source": [
    "sampler = ClusterCentroids()\n",
    "X, y = sampler.fit_resample(X_train, y_train)\n",
    "Counter(y)"
   ]
  },
  {
   "cell_type": "code",
   "execution_count": 44,
   "id": "traditional-affairs",
   "metadata": {},
   "outputs": [],
   "source": [
    "bag = BaggingClassifier()\n",
    "score = {}\n",
    "for num in np.linspace(0.1, 1, 10):\n",
    "    score[num] = imbalanced_cross_validation_score(bag, X_train, y_train, 5, pr_auc_score, \n",
    "                                                   ClusterCentroids(sampling_strategy=num, \n",
    "                                                                    random_state=1, \n",
    "                                                                    n_jobs=-1))"
   ]
  },
  {
   "cell_type": "code",
   "execution_count": 45,
   "id": "correct-neutral",
   "metadata": {},
   "outputs": [
    {
     "data": {
      "text/html": [
       "<style  type=\"text/css\" >\n",
       "#T_b2359_row0_col1{\n",
       "            background-color:  #fed572;\n",
       "            color:  #000000;\n",
       "        }#T_b2359_row1_col1{\n",
       "            background-color:  #fede80;\n",
       "            color:  #000000;\n",
       "        }#T_b2359_row2_col1{\n",
       "            background-color:  #fed977;\n",
       "            color:  #000000;\n",
       "        }#T_b2359_row3_col1{\n",
       "            background-color:  #fec45f;\n",
       "            color:  #000000;\n",
       "        }#T_b2359_row4_col1{\n",
       "            background-color:  #feb852;\n",
       "            color:  #000000;\n",
       "        }#T_b2359_row5_col1{\n",
       "            background-color:  #feb04b;\n",
       "            color:  #000000;\n",
       "        }#T_b2359_row6_col1{\n",
       "            background-color:  #fd8f3d;\n",
       "            color:  #000000;\n",
       "        }#T_b2359_row7_col1{\n",
       "            background-color:  #fd8e3c;\n",
       "            color:  #000000;\n",
       "        }#T_b2359_row8_col1{\n",
       "            background-color:  #fc552c;\n",
       "            color:  #000000;\n",
       "        }#T_b2359_row9_col1{\n",
       "            background-color:  #f94828;\n",
       "            color:  #000000;\n",
       "        }</style><table id=\"T_b2359_\" ><thead>    <tr>        <th class=\"blank level0\" ></th>        <th class=\"col_heading level0 col0\" >sampling_strategy</th>        <th class=\"col_heading level0 col1\" >score</th>    </tr></thead><tbody>\n",
       "                <tr>\n",
       "                        <th id=\"T_b2359_level0_row0\" class=\"row_heading level0 row0\" >0</th>\n",
       "                        <td id=\"T_b2359_row0_col0\" class=\"data row0 col0\" >0.100000</td>\n",
       "                        <td id=\"T_b2359_row0_col1\" class=\"data row0 col1\" >0.131622</td>\n",
       "            </tr>\n",
       "            <tr>\n",
       "                        <th id=\"T_b2359_level0_row1\" class=\"row_heading level0 row1\" >1</th>\n",
       "                        <td id=\"T_b2359_row1_col0\" class=\"data row1 col0\" >0.200000</td>\n",
       "                        <td id=\"T_b2359_row1_col1\" class=\"data row1 col1\" >0.110472</td>\n",
       "            </tr>\n",
       "            <tr>\n",
       "                        <th id=\"T_b2359_level0_row2\" class=\"row_heading level0 row2\" >2</th>\n",
       "                        <td id=\"T_b2359_row2_col0\" class=\"data row2 col0\" >0.300000</td>\n",
       "                        <td id=\"T_b2359_row2_col1\" class=\"data row2 col1\" >0.124528</td>\n",
       "            </tr>\n",
       "            <tr>\n",
       "                        <th id=\"T_b2359_level0_row3\" class=\"row_heading level0 row3\" >3</th>\n",
       "                        <td id=\"T_b2359_row3_col0\" class=\"data row3 col0\" >0.400000</td>\n",
       "                        <td id=\"T_b2359_row3_col1\" class=\"data row3 col1\" >0.158509</td>\n",
       "            </tr>\n",
       "            <tr>\n",
       "                        <th id=\"T_b2359_level0_row4\" class=\"row_heading level0 row4\" >4</th>\n",
       "                        <td id=\"T_b2359_row4_col0\" class=\"data row4 col0\" >0.500000</td>\n",
       "                        <td id=\"T_b2359_row4_col1\" class=\"data row4 col1\" >0.178179</td>\n",
       "            </tr>\n",
       "            <tr>\n",
       "                        <th id=\"T_b2359_level0_row5\" class=\"row_heading level0 row5\" >5</th>\n",
       "                        <td id=\"T_b2359_row5_col0\" class=\"data row5 col0\" >0.600000</td>\n",
       "                        <td id=\"T_b2359_row5_col1\" class=\"data row5 col1\" >0.191309</td>\n",
       "            </tr>\n",
       "            <tr>\n",
       "                        <th id=\"T_b2359_level0_row6\" class=\"row_heading level0 row6\" >6</th>\n",
       "                        <td id=\"T_b2359_row6_col0\" class=\"data row6 col0\" >0.700000</td>\n",
       "                        <td id=\"T_b2359_row6_col1\" class=\"data row6 col1\" >0.246244</td>\n",
       "            </tr>\n",
       "            <tr>\n",
       "                        <th id=\"T_b2359_level0_row7\" class=\"row_heading level0 row7\" >7</th>\n",
       "                        <td id=\"T_b2359_row7_col0\" class=\"data row7 col0\" >0.800000</td>\n",
       "                        <td id=\"T_b2359_row7_col1\" class=\"data row7 col1\" >0.248634</td>\n",
       "            </tr>\n",
       "            <tr>\n",
       "                        <th id=\"T_b2359_level0_row8\" class=\"row_heading level0 row8\" >8</th>\n",
       "                        <td id=\"T_b2359_row8_col0\" class=\"data row8 col0\" >0.900000</td>\n",
       "                        <td id=\"T_b2359_row8_col1\" class=\"data row8 col1\" >0.306593</td>\n",
       "            </tr>\n",
       "            <tr>\n",
       "                        <th id=\"T_b2359_level0_row9\" class=\"row_heading level0 row9\" >9</th>\n",
       "                        <td id=\"T_b2359_row9_col0\" class=\"data row9 col0\" >1.000000</td>\n",
       "                        <td id=\"T_b2359_row9_col1\" class=\"data row9 col1\" >0.318705</td>\n",
       "            </tr>\n",
       "    </tbody></table>"
      ],
      "text/plain": [
       "<pandas.io.formats.style.Styler at 0x26f561efc70>"
      ]
     },
     "execution_count": 45,
     "metadata": {},
     "output_type": "execute_result"
    }
   ],
   "source": [
    "result = pd.DataFrame(score, index=['score']).T.reset_index().rename({'index':'sampling_strategy'}, axis=1)\n",
    "best_sampling = result['sampling_strategy'][result['score'].idxmax()]\n",
    "result.style.background_gradient(subset='score', cmap='YlOrRd', vmin=0, vmax=0.5)"
   ]
  },
  {
   "cell_type": "code",
   "execution_count": 46,
   "id": "oriental-pakistan",
   "metadata": {},
   "outputs": [
    {
     "name": "stdout",
     "output_type": "stream",
     "text": [
      "Best score updated: 0.13571770044129985, {'n_estimators': 10, 'max_samples': 0.9, 'max_features': 1}\n",
      "Best score updated: 0.26630118464863045, {'n_estimators': 10, 'max_samples': 0.9, 'max_features': 0.95}\n",
      "Best score updated: 0.2849001359357562, {'n_estimators': 10, 'max_samples': 0.9, 'max_features': 0.9}\n",
      "Best score updated: 0.2938851572588848, {'n_estimators': 10, 'max_samples': 0.95, 'max_features': 0.95}\n",
      "Best score updated: 0.5227034902522798, {'n_estimators': 10, 'max_samples': 1, 'max_features': 1}\n",
      "0.5227034902522798 {'n_estimators': 10, 'max_samples': 1, 'max_features': 1}\n"
     ]
    }
   ],
   "source": [
    "best_params, best_score = 0, 0\n",
    "\n",
    "n_estimators = np.logspace(1, 2, 3, dtype=int)\n",
    "max_samples = [0.9, 0.95, 1]\n",
    "max_features = [1, 0.95, 0.9, 0.85, 0.8]\n",
    "\n",
    "for n_estimator in n_estimators:\n",
    "    for max_sample in max_samples:\n",
    "        for max_feature in max_features:\n",
    "            bag_params = {'n_estimators': n_estimator, \n",
    "                          'max_samples': max_sample,\n",
    "                          'max_features': max_feature}\n",
    "            bag = BaggingClassifier(**bag_params)\n",
    "            \n",
    "            score = imbalanced_cross_validation_score(bag, X_train, y_train, 5, pr_auc_score, \n",
    "                                                      ClusterCentroids(sampling_strategy=best_sampling,\n",
    "                                                                       random_state=1, \n",
    "                                                                       n_jobs=-1))\n",
    "            if score > best_score:\n",
    "                best_params, best_score = bag_params, score\n",
    "                print(f'Best score updated: {score}, {bag_params}')\n",
    "            \n",
    "print(best_score, best_params)"
   ]
  },
  {
   "cell_type": "markdown",
   "id": "handled-hobby",
   "metadata": {},
   "source": [
    "## Prediction: test data from original distribution"
   ]
  },
  {
   "cell_type": "markdown",
   "id": "ruled-prevention",
   "metadata": {},
   "source": [
    "#### Training model without undersampled data"
   ]
  },
  {
   "cell_type": "code",
   "execution_count": 47,
   "id": "incorporate-bible",
   "metadata": {},
   "outputs": [
    {
     "name": "stdout",
     "output_type": "stream",
     "text": [
      "Accuracy: 0.9381846635367762\n",
      "Precision: 0.3333333333333333\n",
      "Recall: 0.05333333333333334\n",
      "F1-Score: 0.09195402298850575\n",
      "F2-Score: 0.06410256410256411\n"
     ]
    },
    {
     "data": {
      "image/png": "[encoded data removed]",
      "text/plain": [
       "<Figure size 432x288 with 1 Axes>"
      ]
     },
     "metadata": {
      "needs_background": "light"
     },
     "output_type": "display_data"
    }
   ],
   "source": [
    "clf = BaggingClassifier()\n",
    "\n",
    "\n",
    "confusion_matrix2(clf, X_train, y_train, X_test, y_test)"
   ]
  },
  {
   "cell_type": "markdown",
   "id": "compatible-portfolio",
   "metadata": {},
   "source": [
    "#### Training model with undersampled data"
   ]
  },
  {
   "cell_type": "code",
   "execution_count": 51,
   "id": "extra-commonwealth",
   "metadata": {},
   "outputs": [
    {
     "name": "stdout",
     "output_type": "stream",
     "text": [
      "Accuracy: 0.7824726134585289\n",
      "Precision: 0.1605351170568562\n",
      "Recall: 0.64\n",
      "F1-Score: 0.25668449197860965\n",
      "F2-Score: 0.4006677796327212\n"
     ]
    },
    {
     "data": {
      "image/png": "[encoded data removed]",
      "text/plain": [
       "<Figure size 432x288 with 1 Axes>"
      ]
     },
     "metadata": {
      "needs_background": "light"
     },
     "output_type": "display_data"
    }
   ],
   "source": [
    "sampler = ClusterCentroids(random_state=1)\n",
    "X, y = sampler.fit_resample(X_train, y_train)\n",
    "clf = BaggingClassifier()\n",
    "\n",
    "\n",
    "confusion_matrix2(clf, X, y, X_test, y_test)"
   ]
  },
  {
   "cell_type": "markdown",
   "id": "patent-accent",
   "metadata": {},
   "source": [
    "#### Training model with undersampled data (hyperparameters tuned)"
   ]
  },
  {
   "cell_type": "code",
   "execution_count": 53,
   "id": "regional-bunch",
   "metadata": {},
   "outputs": [
    {
     "name": "stdout",
     "output_type": "stream",
     "text": [
      "Accuracy: 0.05868544600938967\n",
      "Precision: 0.05868544600938967\n",
      "Recall: 1.0\n",
      "F1-Score: 0.11086474501108647\n",
      "F2-Score: 0.2376425855513308\n"
     ]
    },
    {
     "data": {
      "image/png": "[encoded data removed]",
      "text/plain": [
       "<Figure size 432x288 with 1 Axes>"
      ]
     },
     "metadata": {
      "needs_background": "light"
     },
     "output_type": "display_data"
    }
   ],
   "source": [
    "sampler = ClusterCentroids(sampling_strategy=best_sampling, random_state=1, n_jobs=-1)\n",
    "X, y = sampler.fit_resample(X_train, y_train)\n",
    "clf = BaggingClassifier(**best_params)\n",
    "\n",
    "\n",
    "confusion_matrix2(clf, X, y, X_test, y_test)"
   ]
  }
 ],
 "metadata": {
  "accelerator": "GPU",
  "colab": {
   "name": "HealthcareStroke.ipynb의 사본",
   "provenance": []
  },
  "kernelspec": {
   "display_name": "Python 3",
   "language": "python",
   "name": "python3"
  },
  "language_info": {
   "codemirror_mode": {
    "name": "ipython",
    "version": 3
   },
   "file_extension": ".py",
   "mimetype": "text/x-python",
   "name": "python",
   "nbconvert_exporter": "python",
   "pygments_lexer": "ipython3",
   "version": "3.8.8"
  }
 },
 "nbformat": 4,
 "nbformat_minor": 5
}
